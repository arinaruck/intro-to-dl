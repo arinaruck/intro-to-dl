{
 "cells": [
  {
   "cell_type": "markdown",
   "metadata": {
    "slideshow": {
     "slide_type": "slide"
    }
   },
   "source": [
    "# MNIST digits classification with TensorFlow"
   ]
  },
  {
   "cell_type": "markdown",
   "metadata": {},
   "source": [
    "<img src=\"images/mnist_sample.png\" style=\"width:30%\">"
   ]
  },
  {
   "cell_type": "code",
   "execution_count": 1,
   "metadata": {},
   "outputs": [
    {
     "name": "stdout",
     "output_type": "stream",
     "text": [
      "We're using TF 1.2.1\n"
     ]
    }
   ],
   "source": [
    "import numpy as np\n",
    "from sklearn.metrics import accuracy_score\n",
    "from matplotlib import pyplot as plt\n",
    "%matplotlib inline\n",
    "import tensorflow as tf\n",
    "print(\"We're using TF\", tf.__version__)"
   ]
  },
  {
   "cell_type": "code",
   "execution_count": 2,
   "metadata": {},
   "outputs": [
    {
     "name": "stderr",
     "output_type": "stream",
     "text": [
      "Using TensorFlow backend.\n"
     ]
    }
   ],
   "source": [
    "import sys\n",
    "sys.path.append(\"../..\")\n",
    "import grading\n",
    "\n",
    "import matplotlib_utils\n",
    "from importlib import reload\n",
    "reload(matplotlib_utils)\n",
    "\n",
    "import grading_utils\n",
    "reload(grading_utils)\n",
    "\n",
    "import keras_utils\n",
    "from keras_utils import reset_tf_session"
   ]
  },
  {
   "cell_type": "markdown",
   "metadata": {},
   "source": [
    "# Fill in your Coursera token and email\n",
    "To successfully submit your answers to our grader, please fill in your Coursera submission token and email"
   ]
  },
  {
   "cell_type": "code",
   "execution_count": 3,
   "metadata": {
    "collapsed": true
   },
   "outputs": [],
   "source": [
    "grader = grading.Grader(assignment_key=\"XtD7ho3TEeiHQBLWejjYAA\", \n",
    "                        all_parts=[\"9XaAS\", \"vmogZ\", \"RMv95\", \"i8bgs\", \"rE763\"])"
   ]
  },
  {
   "cell_type": "code",
   "execution_count": 58,
   "metadata": {
    "collapsed": true
   },
   "outputs": [],
   "source": [
    "# token expires every 30 min\n",
    "COURSERA_TOKEN = \"5fI7gVTAHchjyjSB\"\n",
    "COURSERA_EMAIL = \"arina.ruck@gmail.com\""
   ]
  },
  {
   "cell_type": "markdown",
   "metadata": {},
   "source": [
    "# Look at the data\n",
    "\n",
    "In this task we have 50000 28x28 images of digits from 0 to 9.\n",
    "We will train a classifier on this data."
   ]
  },
  {
   "cell_type": "code",
   "execution_count": 5,
   "metadata": {
    "collapsed": true
   },
   "outputs": [],
   "source": [
    "import preprocessed_mnist\n",
    "X_train, y_train, X_val, y_val, X_test, y_test = preprocessed_mnist.load_dataset_from_file()"
   ]
  },
  {
   "cell_type": "code",
   "execution_count": 6,
   "metadata": {},
   "outputs": [
    {
     "name": "stdout",
     "output_type": "stream",
     "text": [
      "X_train [shape (50000, 28, 28)] sample patch:\n",
      " [[ 0.          0.29803922  0.96470588  0.98823529  0.43921569]\n",
      " [ 0.          0.33333333  0.98823529  0.90196078  0.09803922]\n",
      " [ 0.          0.33333333  0.98823529  0.8745098   0.        ]\n",
      " [ 0.          0.33333333  0.98823529  0.56862745  0.        ]\n",
      " [ 0.          0.3372549   0.99215686  0.88235294  0.        ]]\n",
      "A closeup of a sample patch:\n"
     ]
    },
    {
     "data": {
      "image/png": "[encoded data removed]",
      "text/plain": [
       "<matplotlib.figure.Figure at 0x7f4174754f60>"
      ]
     },
     "metadata": {},
     "output_type": "display_data"
    },
    {
     "name": "stdout",
     "output_type": "stream",
     "text": [
      "And the whole sample:\n"
     ]
    },
    {
     "data": {
      "image/png": "[encoded data removed]",
      "text/plain": [
       "<matplotlib.figure.Figure at 0x7f41746d3e48>"
      ]
     },
     "metadata": {},
     "output_type": "display_data"
    },
    {
     "name": "stdout",
     "output_type": "stream",
     "text": [
      "y_train [shape (50000,)] 10 samples:\n",
      " [5 0 4 1 9 2 1 3 1 4]\n"
     ]
    }
   ],
   "source": [
    "# X contains rgb values divided by 255\n",
    "print(\"X_train [shape %s] sample patch:\\n\" % (str(X_train.shape)), X_train[1, 15:20, 5:10])\n",
    "print(\"A closeup of a sample patch:\")\n",
    "plt.imshow(X_train[1, 15:20, 5:10], cmap=\"Greys\")\n",
    "plt.show()\n",
    "print(\"And the whole sample:\")\n",
    "plt.imshow(X_train[1], cmap=\"Greys\")\n",
    "plt.show()\n",
    "print(\"y_train [shape %s] 10 samples:\\n\" % (str(y_train.shape)), y_train[:10])"
   ]
  },
  {
   "cell_type": "markdown",
   "metadata": {},
   "source": [
    "# Linear model\n",
    "\n",
    "Your task is to train a linear classifier $\\vec{x} \\rightarrow y$ with SGD using TensorFlow.\n",
    "\n",
    "You will need to calculate a logit (a linear transformation) $z_k$ for each class: \n",
    "$$z_k = \\vec{x} \\cdot \\vec{w_k} + b_k \\quad k = 0..9$$\n",
    "\n",
    "And transform logits $z_k$ to valid probabilities $p_k$ with softmax: \n",
    "$$p_k = \\frac{e^{z_k}}{\\sum_{i=0}^{9}{e^{z_i}}} \\quad k = 0..9$$\n",
    "\n",
    "We will use a cross-entropy loss to train our multi-class classifier:\n",
    "$$\\text{cross-entropy}(y, p) = -\\sum_{k=0}^{9}{\\log(p_k)[y = k]}$$ \n",
    "\n",
    "where \n",
    "$$\n",
    "[x]=\\begin{cases}\n",
    "       1, \\quad \\text{if $x$ is true} \\\\\n",
    "       0, \\quad \\text{otherwise}\n",
    "    \\end{cases}\n",
    "$$\n",
    "\n",
    "Cross-entropy minimization pushes $p_k$ close to 1 when $y = k$, which is what we want.\n",
    "\n",
    "Here's the plan:\n",
    "* Flatten the images (28x28 -> 784) with `X_train.reshape((X_train.shape[0], -1))` to simplify our linear model implementation\n",
    "* Use a matrix placeholder for flattened `X_train`\n",
    "* Convert `y_train` to one-hot encoded vectors that are needed for cross-entropy\n",
    "* Use a shared variable `W` for all weights (a column $\\vec{w_k}$ per class) and `b` for all biases.\n",
    "* Aim for ~0.93 validation accuracy"
   ]
  },
  {
   "cell_type": "code",
   "execution_count": 46,
   "metadata": {},
   "outputs": [
    {
     "name": "stdout",
     "output_type": "stream",
     "text": [
      "(50000, 28, 28)\n",
      "(50000, 784)\n",
      "\n",
      "(10000, 28, 28)\n",
      "(10000, 784)\n"
     ]
    }
   ],
   "source": [
    "print(X_train.shape)\n",
    "X_train_flat = X_train.reshape((X_train.shape[0], -1))\n",
    "print(X_train_flat.shape)\n",
    "print()\n",
    "print(X_val.shape)\n",
    "X_val_flat = X_val.reshape((X_val.shape[0], -1))\n",
    "print(X_val_flat.shape)"
   ]
  },
  {
   "cell_type": "code",
   "execution_count": 47,
   "metadata": {},
   "outputs": [
    {
     "name": "stdout",
     "output_type": "stream",
     "text": [
      "(50000, 10)\n",
      "[[ 0.  0.  0.  0.  0.  1.  0.  0.  0.  0.]\n",
      " [ 1.  0.  0.  0.  0.  0.  0.  0.  0.  0.]\n",
      " [ 0.  0.  0.  0.  1.  0.  0.  0.  0.  0.]] [5 0 4]\n"
     ]
    }
   ],
   "source": [
    "import keras\n",
    "\n",
    "y_train_oh = keras.utils.to_categorical(y_train, 10)\n",
    "y_val_oh = keras.utils.to_categorical(y_val, 10)\n",
    "\n",
    "print(y_train_oh.shape)\n",
    "print(y_train_oh[:3], y_train[:3])"
   ]
  },
  {
   "cell_type": "code",
   "execution_count": 52,
   "metadata": {
    "collapsed": true
   },
   "outputs": [],
   "source": [
    "# run this again if you remake your graph\n",
    "s = reset_tf_session()"
   ]
  },
  {
   "cell_type": "code",
   "execution_count": 14,
   "metadata": {
    "collapsed": true
   },
   "outputs": [],
   "source": [
    "# Model parameters: W and b\n",
    "W = tf.get_variable('W', shape=(784, 10), dtype=tf.float32) #with shape[0] = 784\n",
    "b = tf.get_variable('b', shape=(1, 10), dtype=tf.float32)"
   ]
  },
  {
   "cell_type": "code",
   "execution_count": 53,
   "metadata": {
    "collapsed": true
   },
   "outputs": [],
   "source": [
    "# Placeholders for the input data\n",
    "input_X = tf.placeholder('float32', shape=(None, 784)) #for flat X with shape[0] = None for any batch size\n",
    "input_y = tf.placeholder('float32', shape=(None, 10)) #for one-hot encoded true labels"
   ]
  },
  {
   "cell_type": "code",
   "execution_count": 32,
   "metadata": {
    "collapsed": true
   },
   "outputs": [],
   "source": [
    "# Compute predictions\n",
    "logits = tf.add(input_X @ W, b) ### logits for input_X, resulting shape should be [input_X.shape[0], 10]\n",
    "probas = tf.nn.softmax(logits) ### apply tf.nn.softmax to logits\n",
    "classes = tf.argmax(probas, axis=1) ### apply tf.argmax to find a class index with highest probability\n",
    "\n",
    "# Loss should be a scalar number: average loss over all the objects with tf.reduce_mean().\n",
    "# Use tf.nn.softmax_cross_entropy_with_logits on top of one-hot encoded input_y and logits.\n",
    "# It is identical to calculating cross-entropy on top of probas, but is more numerically friendly (read the docs).\n",
    "loss = tf.reduce_mean(tf.nn.softmax_cross_entropy_with_logits(labels=input_y, logits=logits)) #cross-entropy loss\n",
    "\n",
    "# Use a default tf.train.AdamOptimizer to get an SGD step\n",
    "step = tf.train.AdamOptimizer().minimize(loss, var_list=[W, b]) ### optimizer step that minimizes the loss"
   ]
  },
  {
   "cell_type": "code",
   "execution_count": 33,
   "metadata": {},
   "outputs": [
    {
     "name": "stdout",
     "output_type": "stream",
     "text": [
      "Tensor(\"Add_3:0\", shape=(?, 10), dtype=float32)\n",
      "Tensor(\"Placeholder_3:0\", shape=(?, 10), dtype=float32)\n",
      "Tensor(\"ArgMax_5:0\", shape=(?,), dtype=int64)\n"
     ]
    }
   ],
   "source": [
    "print(logits)\n",
    "print(input_y)\n",
    "print(classes)"
   ]
  },
  {
   "cell_type": "code",
   "execution_count": 57,
   "metadata": {
    "scrolled": false
   },
   "outputs": [
    {
     "data": {
      "text/html": [
       "<img src=\"data:image/jpeg;base64,/9j/4AAQSkZJRgABAQAAAQABAAD/2wBDAAIBAQEBAQIBAQECAgICAgQDAgICAgUEBAMEBgUGBgYFBgYGBwkIBgcJBwYGCAsICQoKCgoKBggLDAsKDAkKCgr/2wBDAQICAgICAgUDAwUKBwYHCgoKCgoKCgoKCgoKCgoKCgoKCgoKCgoKCgoKCgoKCgoKCgoKCgoKCgoKCgoKCgoKCgr/wAARCAEgA2ADASIAAhEBAxEB/8QAHwAAAQUBAQEBAQEAAAAAAAAAAAECAwQFBgcICQoL/8QAtRAAAgEDAwIEAwUFBAQAAAF9AQIDAAQRBRIhMUEGE1FhByJxFDKBkaEII0KxwRVS0fAkM2JyggkKFhcYGRolJicoKSo0NTY3ODk6Q0RFRkdISUpTVFVWV1hZWmNkZWZnaGlqc3R1dnd4eXqDhIWGh4iJipKTlJWWl5iZmqKjpKWmp6ipqrKztLW2t7i5usLDxMXGx8jJytLT1NXW19jZ2uHi4%2BTl5ufo6erx8vP09fb3%2BPn6/8QAHwEAAwEBAQEBAQEBAQAAAAAAAAECAwQFBgcICQoL/8QAtREAAgECBAQDBAcFBAQAAQJ3AAECAxEEBSExBhJBUQdhcRMiMoEIFEKRobHBCSMzUvAVYnLRChYkNOEl8RcYGRomJygpKjU2Nzg5OkNERUZHSElKU1RVVldYWVpjZGVmZ2hpanN0dXZ3eHl6goOEhYaHiImKkpOUlZaXmJmaoqOkpaanqKmqsrO0tba3uLm6wsPExcbHyMnK0tPU1dbX2Nna4uPk5ebn6Onq8vP09fb3%2BPn6/9oADAMBAAIRAxEAPwD9/KKKKACiiigAooooAKKKKACiiigAooooAKKKKACiiigAooooAKKKKACiiigAooooAKKKKACiiigAooooAKKKKACiiigAooooAKKKKACiiigAooooAKKKKACiiigAooooAKKKKACiiigAooooAKKKKACiiigAooooAKKKKACiiigAooooAKKKKACiiigAooooAKKKKACiiigAooooAKKKKACiiigAooooAKKKKACiiigAooooAKKKKACiiigAooooAKKKKACiiigAooooAKKKKACiiigAooooAKKKKACiiigAooooAKKKKACiiigAooooAKKKKACiiigAooooAKKKKACiiigAooooAKKKKACvPfjt%2B1J8FP2b5NGsfil4g1Maj4ilnTQNB8OeF9R1zVNR8lVed4bHTbee5kjiVkMkixlI96biu5c%2BhV4N%2B0P8D/j5/wANJ%2BDv2tv2bLLwfrWueH/B2seFNX8KeOdcutLtLywv7mwuxcQXtraXj288U2noCpt3WVJSCUKK1ABpf/BTL9izWLvxPb2nxXv0h8FWsk/jLUrvwXrEFjoIS0iu9l5dy2iwWsrQzRskMjrJIWKorMrKL2n/APBQ/wDZK1HwBrXxFTx/q9vB4f1ay0vVdE1DwNrNrrkV5ebfscC6PNaLqEr3AYGER27eaAxTcFYjy2b9gH4y%2BMf2a/jn8NfGHinwppHin4o/FS38daHc6U1xeWFpeW0OiywQ3IkihkkiN3pRRwoyYHGDuJVaPi79i/8AaV%2BLmr/Ef45fG34S/CjWvFnjWx8KaPp/gKy%2BI2s2Wm6fY6Hcaldw3qa7b6al5DqDXOqTOksVoPJSKNFZiWcgHsviH9vv9mzwv4a8OeI9XvvG3meK0v5NE8P2vwm8SXGuSRWUscV3NJpMWntf28MLzQq8s0CIpmiy37xM%2Bmaz8RPBHhv4e3XxX8T%2BJbbSvDljo76rf6vqrfZYbSySIzPPMZdvlKsYLNvxtAOcYNfGHin9hH9s/WPgX4X8Nay3hfxV470a58RHRfGV/wDHbxNpGr%2BCLW%2BuUktLO11q1sJLzXIYkjhEy3qw/aTbReYCFGPUfjR/wTotfj1%2Bzb4n%2BHHxD%2BOfjW78d%2BMPhfH4Z17xS3jbWho818tpDE2oJoS3y2FuzzQLK3kRRSEPIBIrSM5AOkg/4KUfsZf8K58V/FbWPite6Jo3giysr7xQ/ifwdq%2Bk3NlZXkxhtb37LeWsVxJaSyK6pcxxtC3luQ%2BEYjj/AI3f8FZP2d/hn8ENU%2BMfgPRfFXiqbQfiD4X8L674Y/4QXXbHU7A6zqVrax3T2cmnNdeV5Fw88DeT5d48aW8MhknjB8r1T/gmJ8ZPHfwq8faR4i8DeG9G8Y%2BI9D0fR7DxDqv7RfjPxut3aWusW%2BoTRyf27AfsEZ8likUSzHe%2BGkxknv8A9qH9gz40/GD4g/F/4g%2BBfEPheOTxfB8LbzwlZ6tfXMSvf%2BE/EdzrUsN40dvJ5ENwGt4VljEzrl2MfyKrgHqFh/wUE/Zb1H4m2XwZh8T%2BJo/Fd5oun6xLoF38N9egudO0%2B9adILu/SSyU6dDut5VeS68pYiFEhQum6j4a/wCCmH7FPi3wZ4s%2BIWkfGC4TR/Bfgi68Zaxe6h4S1W0Fx4et0Z5tWsVntUbVLNVQ4nsxPGxZArEugbB0P9kP4ofEP4mfG74g/G9fD2gxfGj4O%2BHfCF1Y%2BE9duNRl0u4tE11Ltlnns7XzYwNViMT7FZikm6OPA3fN37Y37Kn7UOj/ALDHxS%2BJv7TF34AtIfhD%2BxT8QfBHhePwFqF5cNrzXukWxn1G6W5toBYqE0i3CWcbXAVppCZ22oKAPrPw9/wUl/Yy8TaHrHiPT/i1dQWehppU1/JqnhLVbJmtNSu1s7HUIUuLVGubCWdgovoQ9qoDO0qorMPT9E%2BLvw88R/FLX/gvofiH7T4k8LaXp%2Boa/YR2k22zgvmuBa7pinlF3%2ByzHy1cyKoRmVVkjLfJOofsz%2BIPFegeKfjb/wAFIvF/wz8J%2BBbf9nu5%2BHUlx4f8QTLay6beyQyXmq3k17BbpYOTBbCG2QzCAmT/AEiQsuOw/wCCPngP4u2f7I9r8f8A9pDUDf8AxJ%2BL15H4n8V6g9nJbtJCLSCy01fKl%2BeH/iX2lpI0TYKSzTZAYtkA%2BqqKKKACiiigAooooAKKKKACiiigAooooAKKKKACiiigAooooAKKKKACiiigAooooAKKKKACiiigAooooAKKKKACiiigAooooAK8R0j/AIKMfse6ld69Z6n8Urzw83hzw5c%2BINQk8a%2BEdV0GObSbd0jnv7WTUrWBb63R5IlaW2MqAyxjOXXPtN7FczWcsNndCCZ4mWKYx7/LYjhtp64POO9fmJq//BHL9uX4v6t4X1z43fHHQ31vw14P1Cz1DxRqHxW8TeJx4h1v7ZpV9a6idLvoobLSbaS50xfPsLIBRHJtWWQKgUA%2B2X/b/wD2YbX4aN8WNY8QeKtK0ttcg0axs9c%2BGWv2GqanfzIZIYLLTbixS9v2kQM6/Z4ZAyo7AkIxHReA/wBqz4H/ABH1%2By8J%2BHPEOqQ6vf8AhSfxJDpGteFdS0y7TTYbv7JLLLDeW8UkDrP8hhkVZe%2BzbzXk3xO%2BDn7bvxib4e/G3XPBvwq0P4h/Cjx1NrHh/wAM2vjjUr/Rdcs7jSbvTLmO4vn0qGaxmKXskkbpa3AjMQU%2BYJGxV%2BJPwG/bg1/4y%2BHf2mvA%2BjfCu08WX3ww1XwX4x0LUvFepSWGkLcX8N1a39lcJpwk1AxCN1kt5YrQSlxiWLHIB3Gk/wDBRv8AZA8R694F8LeFfiNqus6n8SfBuleLfBunaJ4H1m9nvND1F9lrqMiQWjNa2%2B7HmSTiNbcMpm8oMCdj4a/tufs3fFf4jXPwn8M%2BL9Ws9ft9LudThsvE/gzVtEW/sbeRI57uyl1G1gjv4I3liDy2zSIvmISQGUnyj9hT9hL4sfsw6/8ADjWfHniDw1dnwd%2Byl4R%2BGN%2B%2BkXM8rNq2lvM1zNF5kEe61bemxmKu235o0wK8a%2BGn/BKv9sbxP8UfC/ib9qb4w2eqRaf4A8V%2BF/GniaD4v%2BJNavPEUur2KW39p2umX0Men6EcqWNpaKUXKgTOI1WgD6l8J/8ABRf9kfxrosfirQfHeuf2Hcarpen6f4lvfh/rdrpWoy6lex2VlJaX09mlteQS3M0UYuIJHhBlQs4VgT6X4W%2BLvw88a/EDxT8LvC/iH7XrnguSzj8T2iWkwWxkuoPtEEZlZBG7tCVkKIzMiyRlgokTd8w%2BOPAnxF8K/wDBPbxp8CP%2BChnif4VeCPAWg/DSLQLb4meHfFt2GadI0trXUntLqzgTTZlmFvJDBHcXTGcoiOTtDdr/AMEr/h98WPDf7ImlfFX9oqwS3%2BJ3xYvpfHXxEhW3aL7Pf36xmG02N8yfZbGOys9pyQLXBoA%2BjaKKKACiiigAooooAKKKKACiiigAooooAKKKKACiiigAooooAKKKKACiiigAooooAKKKKACiiigAooooAKKKKACiiigAooooAKKjvb2z06zl1DULuKC3giaSeeaQKkaKMszMeAAASSelYHwt%2BMPwk%2BOPhVfHfwU%2BKXhzxhobXDwLrPhbW7fULQypjfGJoHdNy5GVzkZ5oA6OvF/j14//AGi/%2BGi/AvwI%2BAvjPwV4fTX/AAV4l17V9T8X%2BC7vWiTp13odvDDDHb6lY%2BWG/tSVmZmfPloAF5J9Q8MfET4f%2BNtU1rQ/BnjnR9XvfDepDTvEVnpepxXEul3nlJN9nuUjYmCXypY5PLcBtsiNjDAnyL4i62ll/wAFKvhBosijF98E/iGyN33R6t4NOPyLH8KTaW5cISqO0ezf3K7L/wDwg/8AwUL/AOjoPgz/AOGH1b/5qKP%2BEH/4KF/9HQfBn/ww%2Brf/ADUV7NRTIPGf%2BEH/AOChf/R0HwZ/8MPq3/zUUf8ACD/8FC/%2BjoPgz/4YfVv/AJqK9mooA8Z/4Qf/AIKF/wDR0HwZ/wDDD6t/81FH/CD/APBQv/o6D4M/%2BGH1b/5qK9mooA8Z/wCEH/4KF/8AR0HwZ/8ADD6t/wDNRR/wg/8AwUL/AOjoPgz/AOGH1b/5qK9mooA8Z/4Qf/goX/0dB8Gf/DD6t/8ANRR/wg//AAUL/wCjoPgz/wCGH1b/AOaivZqKAPGf%2BEH/AOChf/R0HwZ/8MPq3/zUUf8ACD/8FC/%2BjoPgz/4YfVv/AJqK9mooA8Z/4Qf/AIKF/wDR0HwZ/wDDD6t/81FH/CD/APBQv/o6D4M/%2BGH1b/5qK9R8ZjfoYgYnZNfWkUoBxuR7mNWX6FSQfY15jr/7UH/BP3wprt74W8U/tEfBzTdT027ktdR07UPF2lQz2s8bFJIpI3lDI6sCrKwBBBBGRWVWvQoJOpNRv3aX5tHdgcrzPNJyhgsPUquKu1ThOo0trtQhNpX0u0lfS99Bn/CD/wDBQv8A6Og%2BDP8A4YfVv/moo/4Qf/goX/0dB8Gf/DD6t/8ANRVf/hr/AP4Jwf8AR0XwR/8AC20f/wCO1b0D9qD/AIJ%2B%2BK9dsvC3hb9oj4OalqepXcdrp2naf4t0qae6nkYJHFHGkpZ3ZiFVVBJJAAyayWOwLdlVh/4HH/5I9CfCvFNODnPL8Qkk226FdJJattugkkkm220kk22kmxn/AAg//BQv/o6D4M/%2BGH1b/wCaij/hB/8AgoX/ANHQfBn/AMMPq3/zUVo/tV/Ev4Vfsofs3%2BNf2kvFPwuXVtP8FeHrjVbrTdI0QTXFysS52IscbEZOMuRtRcu5VVZhz%2Bk/tZ/sf6543l%2BGul%2BGtfl8Q23hxde1DRf%2BFNa6t1p9g8d28Ut1G2nhrVpfsNysUcwSSZ4xHGru6K3UeCX/APhB/wDgoX/0dB8Gf/DD6t/81FH/AAg//BQv/o6D4M/%2BGH1b/wCaiqWmftOfsweJpPDv/CK6ZYIdZ8dTeFb2w8S%2BEtR0fUbG%2Bj0a61cwtZXNgJklNrbrMq3C28bwyeYsrMYo5m/BT9r/APYX/aC0abxH8NvE2l/2dF4f0/XUv/EXhG70WC50u%2BZltb2CTUbaBbm3kdSgliLqHwhIYgUAX/8AhB/%2BChf/AEdB8Gf/AAw%2Brf8AzUUf8IP/AMFC/wDo6D4M/wDhh9W/%2Bairn7UGvar8D/hXqfxX8B/B34d6tYeHdNu9T8TzeMfEkuiQWNhbwPNJMklvpl8ZCFRiVKIABncelO8CX/jj4g/syeHPizYfs0eE9K8da94X0/U5vAniDXDBa6ddXEUUktnNfxWEr5iDuu9bU7nTG1QdwAKP/CD/APBQv/o6D4M/%2BGH1b/5qKP8AhB/%2BChf/AEdB8Gf/AAw%2Brf8AzUV5H4D/AGyvH/xD8K6Tp/h39jHwHP438R/EXxL4c8OaTH4%2Bf%2Bxruy0IyRX2qNqLaOsyR/aoXto41tHLs0T7hG7OnSeFP2sNN8deJfgHqXhn9mTQx4J%2BOVk6prt/rMcWpaHqS6PqGqNZvYJaPHOETT3ieUXKYeQbVcAmgDuP%2BEH/AOChf/R0HwZ/8MPq3/zUUf8ACD/8FC/%2BjoPgz/4YfVv/AJqK52/%2BLfxJ0H9sXw5%2BzLr37K/w7k0fxPpOu6xZ%2BItI8bzXF/aaZpxt41uLmxk0eKOJpZ7y0hCLdPtMkjBpBE2eL1j9tifwV%2Byf8RP2gPib%2By34F0LXvh58RrfwlqOgzeOFOlb5r3TrYXc2qNpqGCFF1BZJD9mcKIXALAhqAPVv%2BEH/AOChf/R0HwZ/8MPq3/zUUf8ACD/8FC/%2BjoPgz/4YfVv/AJqK4X4m/tP2vw2/ZR0v9qO78G/s7PptwJ5dS1K5%2BNQg0BogziBbHVf7GYX00uzAjMMID7lDvgE04P22vh54l%2BNvg34JeEvhD4C0nU9f8P6Fq%2Bt6b8TPGMHh/VbQamGkWwsbAWlxJqOoQQo0k0G6BFLwr5pMjeWAejf8IP8A8FC/%2BjoPgz/4YfVv/moo/wCEH/4KF/8AR0HwZ/8ADD6t/wDNRXMr8X/ilp/7Xtn%2BzHr37J/w6ex1PwrrfiKx17RfHUtzcwWNlcW1vam7tJdHhjgkupLpFVUuJQvk3BBkEWWT4UftNeFta/Zx8W/HP45/AHQ/C2oeDfFmq%2BHtR8N%2BHb9daN5e2l79jhgtJntbVp5rmYxRRReWpMsqoC2QSAdP/wAIP/wUL/6Og%2BDP/hh9W/8Amoo/4Qf/AIKF/wDR0HwZ/wDDD6t/81FeReIf2yPiJZ/sGW/7cOgfsafD10sND1i98W%2BE9Z%2BIUttPa3FlcyW0dnYy2%2Bi3Av5Z5YXRdywfO8SjdvJXppf2sPC8/wC07pf7Ldl8LfhXY69BbaX/AMJfa%2BJfiJBYXsV5dQi4ls9ItBYyPrElvAUlkYm2QrNCFYlnEYB2/wDwg/8AwUL/AOjoPgz/AOGH1b/5qKP%2BEH/4KF/9HQfBn/ww%2Brf/ADUV4pL/AMFJ/hj4a0HWviH8Rv2cdDsPDB8G%2BNvEngttK1yG81bV4PC83l38F1ZNaxJYzOPnjAnnVQrrM0LgI3c%2BAf2vvhVbXni/wf8AtG/C/wAK%2BF/FXg6fRvtejeB7mbxWt9Fq0MstgLUW%2Bnw3VxcP9nud1ulsWCw%2BYC8bB6AOy/4Qf/goX/0dB8Gf/DD6t/8ANRR/wg//AAUL/wCjoPgz/wCGH1b/AOairWr/ABz/AGZNP/Zj8R/tcWGl2d74O8L%2BHtW1fVpk8PmC6hj01ZzewPb3EccsNxE9tNE8Mqo6SRsjBWBA8L%2BJv7fF/wDA/wAE%2BIF%2BN37KXw88KeM9B1Lwf9o0vWfiMkWhwaX4ivZrK1vrnVW0sG38ma0vkmj%2BzOqm2%2BWR1cMAD2r/AIQf/goX/wBHQfBn/wAMPq3/AM1FUPA/jj9qzwd%2B1Z4c%2BCPxu%2BI/w98TaN4m%2BHviHXIZvCvw8vtFurS602%2B0S3RWe41e%2BSWN01SUlQiMGiQhsZB63wdPpHjL4F2/xLk8OeDre/vNDe%2BguvBOsjVNPB2M8clrffZ7drhCArB/KTOcYI5OD44/5SF/C/8A7Iz48/8ATt4QoA9mooooAKKK%2BUP%2BC20f7Pv/AA7Q%2BKV3%2B0Jc%2BFIoLXwrqM3hJ/FlzbxxjXRY3H2P7N55Aa7BLmILl9wyoyMgA%2Br6K%2BU/25vi9%2Bz38Xfgz4H1yb4n%2BEPFHwlPxL0Gf4p3lrrVre6SdBmS4a2kvnR2i%2BwveiwLtIfJaMMXzHvr5C8YN8Ef%2BFRD/hfhsv8AhW3/AAgnxT/4Zt%2B3f6r7b/wksn9j/wBj9/t32D7H/ZXkfv8A7Nu%2By/LvoA/WmvnH4TeKv27/AI66Pr3jvwv8b/hJoGl2/wAQvFWh6XpV/wDB/VL%2B4itdL16/0yFpbhPEUCyyPHZq7MsUa7nICgAV6/ol38YrH4HaXd/2DpeqeOY/DtqbvT9Y1Z7C0n1Dyk85ZLiG3uDEu/f8yQyey151/wAE6bjxLd/s3X114y0mxsNXk%2BLfxDbU7HTNRe7trec%2BM9a8yOKd4YWmQNkB2ijLAAlFzgAF7/hB/wDgoX/0dB8Gf/DD6t/81FH/AAg//BQv/o6D4M/%2BGH1b/wCaivZqKAPGf%2BEH/wCChf8A0dB8Gf8Aww%2Brf/NRR/wg/wDwUL/6Og%2BDP/hh9W/%2BaivZqKAPGf8AhB/%2BChf/AEdB8Gf/AAw%2Brf8AzUUf8IP/AMFC/wDo6D4M/wDhh9W/%2BaivZqKAPGf%2BEH/4KF/9HQfBn/ww%2Brf/ADUUf8IP/wAFC/8Ao6D4M/8Ahh9W/wDmor2aigDxn/hB/wDgoX/0dB8Gf/DD6t/81FH/AAg//BQv/o6D4M/%2BGH1b/wCaivZqKAPGf%2BEH/wCChf8A0dB8Gf8Aww%2Brf/NRR/wg/wDwUL/6Og%2BDP/hh9W/%2BaivZqKAPGf8AhB/%2BChf/AEdB8Gf/AAw%2Brf8AzUUf8IP/AMFC/wDo6D4M/wDhh9W/%2BaivZqKAPGf%2BEH/4KF/9HQfBn/ww%2Brf/ADUUf8IP/wAFC/8Ao6D4M/8Ahh9W/wDmor2aigDxn/hB/wDgoX/0dB8Gf/DD6t/81FH/AAg//BQv/o6D4M/%2BGH1b/wCaipfi9/wUB/Yq%2BA%2Btr4Z%2BK37THhLStSMmyTThqiz3ELf9NY4d7RD3cKKg0T/go3%2BwN4gtTeWH7ZXw1RAMkXvjKztm/wC%2BZpFb9K43mOXxqODrQ5luuaN//Sj6SHBvGFXCRxUMtxDpy%2BGSoVnF%2BaapNNea07Njv%2BEH/wCChf8A0dB8Gf8Aww%2Brf/NRR/wg/wDwUL/6Og%2BDP/hh9W/%2Bais7xF/wU/8A%2BCevhe1kvNS/bC8BypEMsNO12O8c/RYN7N%2BANcVo3/BaL9gbX/E%2Bn6PpnxC1v%2BydRvlso/GN54UvbXRoZ2zsSW5njQR7iCAxG0YJJABIxnnGU05KMsRC7/vR/Rv8bLzPQw3hx4g4ylKrRyjEuMU237Cqlom/tQhd2TdoqUnbSL2PRv8AhB/%2BChf/AEdB8Gf/AAw%2Brf8AzUUf8IP/AMFC/wDo6D4M/wDhh9W/%2BaivY7e4gu4EurWdJYpUDxyRsGV1IyCCOoI718//ALQv/BSH4L/A34kn4G%2BFfBvjD4l%2BPktvPufB/wANtDOpXVghICtdMGVLcHcD8xLAEMVwyk9WJxeGwdP2laaitvV9kldt%2BSTZ4eS8P51xFjXhMtoSq1EnJpWSjFbynKThCEV1lOcIp6Xu0nu/8IP/AMFC/wDo6D4M/wDhh9W/%2Baij/hB/%2BChf/R0HwZ/8MPq3/wA1FeXRftKf8FXviGTrHw6/4J9eFvCumf8ALCLx/wDEONry4HZzFar%2B590fJ96k/wCFq/8ABZj/AKNS%2BDf/AIXVz/8AE1w/2xQesaVVrv7Kf62f4I%2BofhxmsPdq47BQl1i8bh7ryfLzq/pJ%2Bp6b/wAIP/wUL/6Og%2BDP/hh9W/8Amoo/4Qf/AIKF/wDR0HwZ/wDDD6t/81FeZf8AC1f%2BCzH/AEal8G//AAurn/4mj/hav/BZj/o1L4N/%2BF1c/wDxNH9r0v8AnzV/8Fy/zD/iHeP/AOhjgf8Awto//Inpv/CD/wDBQv8A6Og%2BDP8A4YfVv/moo/4Qf/goX/0dB8Gf/DD6t/8ANRXmX/C1f%2BCzH/RqXwb/APC6uf8A4mj/AIWr/wAFmP8Ao1L4N/8AhdXP/wATR/a9L/nzV/8ABcv8w/4h3j/%2Bhjgf/C2j/wDInpv/AAg//BQv/o6D4M/%2BGH1b/wCaij/hB/8AgoX/ANHQfBn/AMMPq3/zUV5l/wALV/4LMf8ARqXwb/8AC6uf/iaP%2BFq/8FmP%2BjUvg3/4XVz/APE0f2vS/wCfNX/wXL/MP%2BId4/8A6GOB/wDC2j/8iem/8IP/AMFC/wDo6D4M/wDhh9W/%2Baij/hB/%2BChf/R0HwZ/8MPq3/wA1FeZf8LV/4LMf9GpfBv8A8Lq5/wDiaP8Ahav/AAWY/wCjUvg3/wCF1c//ABNH9r0v%2BfNX/wAFy/zD/iHeP/6GOB/8LaP/AMiem/8ACD/8FC/%2BjoPgz/4YfVv/AJqKP%2BEH/wCChf8A0dB8Gf8Aww%2Brf/NRXmX/AAtX/gsx/wBGpfBv/wALq5/%2BJo/4Wr/wWY/6NS%2BDf/hdXP8A8TR/a9L/AJ81f/Bcv8w/4h3j/wDoY4H/AMLaP/yJ6b/wg/8AwUL/AOjoPgz/AOGH1b/5qKP%2BEH/4KF/9HQfBn/ww%2Brf/ADUV5l/wtX/gsx/0al8G/wDwurn/AOJo/wCFq/8ABZj/AKNS%2BDf/AIXVz/8AE0f2vS/581f/AAXL/MP%2BId4//oY4H/wto/8AyJ6b/wAIP/wUL/6Og%2BDP/hh9W/8Amoq3%2Byt8RvjT4w1j4oeBPjpr/hfVtU8A/EKLQ7PVfCfhq50m3urWXQdH1NWe3uL28ZZFk1GVCwl2lY0O1TnPk/8AwtX/AILMf9GpfBv/AMLq5/8Aia6D/gnZqvxm1vXPjzqn7QfhTRtD8Xy/GaD%2B19L8P3zXNpBjwj4bEXlyMAWzCI2OejMw7V04bHQxU3FU5x0v70HFfe%2BvkePnfCmJyLCqvUxWGqpvltRxFOrLZu7jBJqOmstrtLqfSdFFFdp8uFFFFABRRRQAUUUUAFFFFABRRRQAUUUUAFFFFABRRRQAUUUUAeRft9/D7xp8Vv2KPin8OPh5o0up6zrPgbUbWy0iBwr6mWgbdZqWIUGdd0I3EL%2B85IGTXlnwY134l%2BKPGnx3%2BKPwB%2BHmr%2BGrvx7Y2cfwxh%2BIvgfV9Gs7nWbDRUhe%2BvoZbUTWluZHs7bdLGjzLYP5KyKiMfrCigD4%2B/4JbfBb4/8AwK8f/HDwl8YPg5pPhyxuvFukXljrWn%2BLbzVzr942g6et7eme40uxFy0s6vLLOq83MtxGUHlB3b8XLn4qeH/%2BCyPwCTxv418P6houtfDj4kW/hnTtK8NT2V1Yxq/huaRLq4kvZkvGYxoVaOG3C7Gyr7ht%2Bw6%2BL/20tYOjf8FjP2LGZ8R3Wg/E62k5677DR9o/76Va5cZP2dDm84/jKK/U97hvDfW809l3p13/AOA0K0v/AG0%2B0KKKK6jwQooooAKKKKACiiigAooooAKKKKAMvxh/yCYf%2BwrY/wDpXFXC6/8AsTfsZeK9dvfFPin9kf4Y6lqepXcl1qOo6h4B06ae6nkYvJLJI8JZ3ZiWZmJJJJJya7rxh/yCYf8AsK2P/pXFXzt4/wD%2BCyn/AATc%2BF/jvW/hp46/aO%2Bw634d1e50zWLL/hENYl%2Bz3VvK0Use%2BO0ZH2ujDcrFTjIJHNcOOrZbRhF4yUEm9Ofltfy5k9bdio8SVOG/3sMa8Nz6XVWVLmtra8alO9t7Nu29up6J/wAMD/sK/wDRlnwl/wDDc6Z/8Yq3oH7E37GXhTXbLxT4W/ZH%2BGOm6npt3HdadqOn%2BAdOhntZ42DxyxyJCGR1YBlZSCCAQcivGf8Ah%2Bb/AMEsv%2Bjov/LJ1z/5CrX8A/8ABZT/AIJufFDx3ovw08C/tHfbtb8RavbaZo9l/wAIhrEX2i6uJViij3yWiom53UbmYKM5JA5rz4Y3hhzSjOje6tb2d79Lab3tYr/iJuJr/unnk5c2lvrdV3vpa31h3ve1rO97Wd7P2X9pr4J2X7Sf7Onjv9nvUNfl0mHxv4R1DQ31WCASvZ/ard4RMEJAcoXDbSQG24yM5ry/xF%2BxN8QvH%2Bg/F2Xx78fbWLxJ8W/h3pvhm%2B1rwn4Vm02HTZLMaiFuYopL6eRkcX4DRGYHETYkHmDZ658dfjD4c/Z9%2BD3iP43%2BMtM1G60bwrpUup6ymlQpJPFZxDdPMFd0DLHGHlYZztjbaGbCny/4z/8ABRD4O/BbS/F2uap4b1PULHwV4ts/DesaiPEGg6VaPf3GmxaiEhuNX1Kzhk2QTwBgH375gqK%2ByQp7xmedfBH/AIJTRfCLxFD4mh%2BJPhCw2/FweOX0HwF8L49A0iBh4RvPDhs7a1S8lMIb7ULtpWeRmdGUj5w6ehfA39ijxD8Ao/Al34R%2BLllc3/gb4G6V8OreXUPC7tDd/Y5IGN80aXasu9YWAhDnYXB8xtu1uUtf%2BCjuk%2BKfH0d/4JuLS48Ba54M%2BEmu%2BEdVi0KSe8uv%2BEw8QatppWZHu4VjjEVnZlWALwNJM7Jc4WCrHg3/AIKNH4mftFeD/BHhD4P%2BJrLwD4j8FeLNftPFmqaEs7eIYdJuNOhjn0uOyuZpzG/2qVvKnt0nmDQNChBOQD2D9qL4D/8ADTPwduvgpe%2BKv7K0rWNU01vEeLHzzqGlw3sE95p2N6BFuoIpLV3%2Bbak7kKxxXTeJdL%2BIOoxatb%2BGfGOm6atzobQaNLNob3EtjqB8wC6kP2hVniGYiIAqHMb5lIcBOC/ak%2BNHxA%2BHujeBfC3wcTSIfFHxJ8b2/h3QtQ8T6XPcWWm5srzUJ7me1jmt5ZttrYXAWISxEyMgLKM1xtj%2B2h4y0f8AYG8Z/tP%2BLPCGmXfivwJJ4o0i/wBK055ILDUdX0bVL3St0ZcyPBbXFxaLIAzSPFHMAS7ISQCRv2F9Z8B/Cb4P%2BEf2ePi5aeHPE3wb0ttO0fxH4i8MPq9vqkE1j9lvPtlql3bPI8ziO6MizqwniUtvUujZV5%2Bwj8W/CsXwB8N/BL9oLw3pPh/4Fsky2/in4eXGq3%2BvXR0u90y4mkuYNVtI4PMgvppNogbbNhssn7quN%2BIn7cn7SPwZ1O/%2BDXxZ8YfC7SNd0zx/pOl6z8Wrzwze2/hfRtH1DRb2/hvbuyk1LzInN5Yvpw33yRl7m3lLqX8gv1X9u/8AaD8R/sSaN%2B238MdV%2BH62sEd1p954N1LwvqE134w1231abS10/S5hexGxN3cQbLcSwXThrhN64RiQD6J8K/Af%2BxP2l/F/7Set%2BKv7RvPEHhrSdA0bTvsPlro1hZvdTuivvbzXnuLuSR3Cp8sUCEHygx84%2BBn7MP7XXwd8P/EdL79pn4barrfjfxiPEmmX0fwbv4LTS7uTyFuUlt21%2BR7qNordBGFmhaNyXLSjCDF1b9sj43WPx8vLi20jwu/wy034y2fw1uNOOm3H9uTXlxpsE41NLr7SIFiW9uYrb7KbcsY1efzwcQ1yH7Hn/BQT4x/tS%2BKYvhAfH3w2tvGniT4WnxfZ2WmeFL%2BceAbyK7tbe80HWoH1FHu7yA3sCtteycMkhaBFaPcAemeFf2S/2gvhr8LNT8F/DT9oPwTBq/i3xLrWt%2BOr/XfhTLe6fd3GosCy2NimqwizjQA/LNLdeYXdpN7MxPHXv/BKzTdNtNM8H%2BAPjHHZeG5/CPgnw942Gt%2BGP7Q1nWIfC8/m2Fxb6gLmIWdxIMLLI8FwPlV4lhky7ctY/t4ftQaV8KrPxb8RviT8I9D0vXfjdrvhLSvi3qngu/tPD%2Bn6Tpltcxfa7u0k1gnzLnU7G6toJDexQskkDDc7JHLPq/8AwVI8e%2BLPgL8IPiD8F/A%2BiXGu%2BK9b8LN8SIdVt7k2mhaVqHiW18PzNEoeOUXE91LcfZBLgeXZ3DyKxh8pwD6U8G/AW48L/H34hftC33i9NQ1bxlpmk6To8MumlU0XTNPimaO2z5pM5a8vL64Zx5WRPHHj90JG8o%2BFX/BPfxBP4D8R/Dz9rb4vab42stV%2BJM/jjRLj4eaVrXgm70nVJ555pW%2B02utzzSIGmHlBXj2BTu80lSk/ws/an%2BLuu/tpeKvgb8WPE2ieGdFt/E9zpvgDQL/4T63aXPie2i0u3uzcWuvT3Y0%2B7kV2uy1vBA0gjtXJACM4x/2IP2n/ANpr9pn4J6gnjnx54M0T4tv4R0jU38Eav8F/EHh9vC090knmfarfUdRM2q23mI8ST2xgjZraQByW%2BQA1/h3/AME4tF%2BHf7N/gb9mG2%2BLur6j4f8ADPxOh8Xa%2B2sy3l/LriQajLqdtY77u8me3RLwWMrHdIsgtZAYwbhnWf4w/sAyfEr436x8R9B%2BJWmaNoXjHxB4T1vx3pUnhH7TqV9e%2BHryK5sWtNQ%2B1ILNG8iCORWgnO1GMTQu5euW8Qftg/tQ3X/BLjwb%2B2z4Pk8A23iq48L6Xrvi2z1Lw5ez6fcxTKgnhs4kvkkt2Z3XY8k0wRQcrIa7L9tz9oz41/s1a94R8SeCdR0W80TW9d0zSpvDd78OdVunuZZ9Rgt5pJNegu0sdFQRXKGM3sJEkkbIrOzhVAIvDv7Bv2D9pPxF%2B07rOo/DhNcutN1i08Of8I18KE01i9%2Byf6VrM322WTWp4ookhDA2yFZbj5AZVMfnd1/wR3%2BHes%2BBdQg18/DEeJrnxfpWu2dtpXwZt7bwhCun295bwWcmgNdyefCyalqMkjNdeaZrvzEkj8uNV7/Qf2xviR49/b1t/wBnzwL4f0Nvh3L4L8UmHxJdQzNeX3iHRb3Rre5SBlkEf2KFtUa3clTI1zbTqCgh/ez/AAM%2BMP7WfxU/Z8%2BIp1XxJ8O4PiN4P8datoFjrNv4Svxojx2csR82SxOomd2MTOMC6QMwU/KMrQBPpv8AwTy%2BE2qfAK4%2BCPjuG0sIdR8Ja54d1TTfhYt/4U8NSWmqC7Sdk0CG9msvN8u7f97MJ5N4Em8EKFPAf7Lf7TPgq%2B8S/FS8/aZ8I6z8TvEdjomkSeJtT%2BF0/wDZkWkaX9saCA6fHqySNcNNqN7M84ulUvNhYlRQtegfsj/FnxH8e/2Uvhj8dPGFlZW2r%2BNPh7ouvapb6bG6W0VzeWMNxKkSu7ssYeRgoZmIAGWJ5r0KgDyf4JfARP2av2ZL74WN4nXWbkza/rGp6jFpy2cMt7qd9d6lciC2VnFvAs93IsUW9ykaopd2BdqPjj/lIX8L/wDsjPjz/wBO3hCvUvHP/Ik6x/2Crj/0W1eW%2BOP%2BUhfwv/7Iz48/9O3hCgD2aiiigAooooAKKKKACvGf2D/%2BSIa5/wBlm%2BI//qa63Xs1eM/sH/8AJENc/wCyzfEf/wBTXW6APZqKKKACiiigAooooAKKKKACiivEv2uf24/h/wDssTaN4GsvDWo%2BNfiH4pnEPhP4d%2BHCGv8AUDkgyvnIt4FwxMrjHytgHa2MMRiaGEourWlaK/pJdW29Ekm29kenk%2BTZpxBmEMDl9J1Ksr2Stokm5Sk21GMYpOUpylGMYpuUkj22vkT9qb9uL4%2B%2BJ/itqH7L3/BODwLpPjHxv4XgN/481zV2J0nRUjDMmmlwyh7ydl8sJuGzJzgh2hr61H/wWL/aX0m50IaN8OPgDoepQtDcXP8AasuveIbWNxgmF4NtsrhScNlWU4IIIyPff2W/2XPhP%2ByH8JbP4RfCTSXjtomM%2BpaldsHu9VvGx5l3cyYzJK5HJ6AAKoCqAPLqVcZmj9nQU6VPrNrlk%2Bygndq/WUkrLRK7uvvcJl/DnAsXjcznh8fi1pTw0J%2B2oRf2qmJqU%2BSE1FXUKNKpLmk%2BepUUIKM8/wDY5/az8D/tifB6D4keGLObS9Vs7h9P8WeF77K3ehanFxNaTKQCCG5ViBuUg4Byo89/af8A20/ijp/xv079j39iXwVoPi/4oTW/2/xHP4immXRvCun7crLfPAQ4kkJUJEp3YYMR8yBuZ/a1/ZG/ab8B/Gyf9rb/AIJwaho2m%2BMvFVn/AGP8QfDmtuqadqsbKUg1UqSF%2B02zEOepdQeGJdJfXP2Lf2PPCP7H/wANZ9CttYn8QeLfEF2dS8d%2BNdRy15r2pPkvK7EkiMFmCR5IUEk5ZnZsozzfENYOacHH4qqslKPTk3tKX2rq0LO17xt3V8N4d5PCXEWHlHERqr9xgZuUpUqr/iLFNcjlQot/ubTUsUpU%2BZ01Tr83ljfCr/gs341HleJf2rfg34JEnDy%2BDvA1zqTQj1QX7AMR/tVG/wDwSv8AEPxMX/jK39vb4xfECGT/AI/NEsdaTQ9Juh3D2lqp4%2BjjGa%2BuaK6v7FwU/wCM51P8c5tfdeK/A8JeJnEuH/5F0MPhH3w%2BFoU5L0qOFaovK001umnqeTfBz9hH9jn4A6OdF%2BE/7OHhPTEeLy5rmTSkurmZP7slxPvlkHszEVd1v9iv9jjxLdi%2B8Rfsm/DS/nByJrzwJp8rZ%2BrQk16ZRXZHA4GNNU1SjyrZcsbfdynzdXiniiti5YqePrurLeftq3M/WSqpv77eSOC8P/sq/sv%2BErmO98K/s3%2BAtMmiOYpdP8H2ULIfUFIgRXQ/ED4a%2BAPit4G1D4Z/EfwhYazoGqWpt7/Sb%2B3Dwyx9ht7EEAgjBUgEEEA1uUVrHD0IwcIwST3Vkk/VJJHFVzbNq%2BJhiKuIqSqQacZOpOUotO6cZSnKSaaTTTTurnw5J%2BxZ/wAFEfgHJL%2BzP%2Bx7%2B0dp1t8H9ffFnrnioPda54Bt8ky21i2R9oRlO2ItzH6xkea30l%2Byn%2ByD8GP2PPAL%2BCfhPo0rXN9L9o8Q%2BI9Tl8/UtbujktcXU5GZGJZiBwq7jtAyc%2Bo0Vw4XKcHhKvtIJtrSN22oJ7qCfwr73bS/Kkl9Pn3iDxJxFl/1PEShCM2pVXTpxpyxFRbVMQ4W9rNLa6jHmvU9m6sp1JFFFFemfEBRRRQAUUUUAFFFFABRRRQAUUUUAFFFFABXjP7L/wDyW/8AaO/7LNY/%2BoV4Xr2avGf2X/8Akt/7R3/ZZrH/ANQrwvQB7NRRRQAUUUUAFFFFABRRRQAUUUUAFFFFABRRRQAUUUUAFFFFABRRRQAUUUUAFfBP/BTTVf7C/wCCqf7D%2Bq7tudX8X2uf%2Bu50OLH47q%2B9q/Or/gspdS6T%2B35%2BxV4kjOE07x1qElw3pE2q%2BGo2/wDQ68zOZcmWzl25X/5PTPufDaisTxrhaL%2B2q0fvwuLX52P0Vooor0z4YKKKKACiiigAooooAKKKKACiiigDK8Yf8gmH/sKWP/pXFWrUN/YWmp2j2N9AJIpBhlJI75ByOQQcEEcgiqH/AAh%2Bk/8AP3qn/g8u/wD47QBq0Vl/8IfpP/P3qv8A4PLv/wCO0f8ACH6T/wA/eq/%2BDy7/APjtAFnXtC0fxRod74Z8RabFeafqNpJa31ncJujnhkUo8bDurKSCPQ186%2BCf%2BCYPwo%2BGnwj8B/DD4efGr4j6VqHw%2B1vU9U0vxyup6fc63eS36TRXQupLmykgk3RTeUrrCksaQxCN02kn6B/4Q/Sf%2BfvVf/B5d/8Ax2j/AIQ/Sf8An71X/wAHl3/8doA8G8Df8ExPgH8P/DXh7wroni3xhJbeGvDXw80Owa71K2eR7bwbqt3qmltI32cbpJZ7yVbhuA6KgjELAu1r4bf8E7vAvwp%2BIml/EDwl8dfiIq%2BF/Deu6F4D0K4vNNksPC1nqs1tNMlohsd8pie0g8k3T3GxU2Hcny17f/wh%2Bk/8/eq/%2BDy7/wDjtH/CH6T/AM/eq/8Ag8u//jtAHMfHP4B6J8d/Bul%2BHNX8aa7omqaBrVrrHh7xZoD2q6jpmoQBlW5iE8EtuxaOSaJ0kheN45pFKYPHO6b%2Bxj8MrP4A3v7MupeJPEGpeEdZ0HW7DxLZ31zb%2BdrV1q1y91e6pPPHCkqXjzzXUoaBoo1e6kYR5WLy/Sf%2BEP0n/n71X/weXf8A8do/4Q/Sf%2BfvVf8AweXf/wAdoA8p8Lfsb6h4L8MeILfw5%2B1Z8TIfFvinWrbUNf8AiRJHoM2sXa29qtrDa%2BXJpTWKQJEgwqWqtvLyFi8js3O6/wD8E3/Blxqfw51H4fftD/Ejwcnwv0y7g8N2ejvot9C95dljc6tOuq6beeZqEgeZTcgqwFxcBdvny7/eP%2BEP0n/n71X/AMHl3/8AHaP%2BEP0n/n71X/weXf8A8doA8tvP2IfhxefH5vjq/jnxUttL4rh8VXPgVLq1/sSfX4tOXTo9UZTb/afNW3SMeULgW5kiSYwmUeZWp8PP2XYPBXjfWvij4k%2BN3jTxf4p1TQzo2neIPEp0xZtD08yNKbezjs7K3gUGUo7SSxyySGGESO6xoo77/hD9J/5%2B9V/8Hl3/APHaP%2BEP0n/n71X/AMHl3/8AHaAPP9K/ZYtPA37OXhH9mv4KfGzxn4C07wbptpYWOu%2BHhplxqV3bwW7Q7bh9QsbmF2kJ82SRYlkaUbgy5YHiPiZ/wSg/YI%2BLfw18N/DXxx%2Bzj4Wv/wDhFU0OHS/EWo%2BHLG%2B1hrXTL%2BG9jtZb27glllhneJ0uFYkzJdXAJDSlq93/AOEP0n/n71X/AMHl3/8AHaP%2BEP0n/n71X/weXf8A8doA871L9lG18R/GfR/i/wCNfjl421u38L6rdap4O8IXn9lxaVoN7PZXFiZ4fs1jFczMltd3UaLczzIvnsQu5UK0/B37IN54V1rxH491H9p/4ja74117w3DoVp451iLQ/tuiWMUskypaQQaZFY7jLKzs81tMzkIGJVFUeof8IfpP/P3qv/g8u/8A47R/wh%2Bk/wDP3qv/AIPLv/47QB4Af%2BCbml/8MT2f7Ckf7W/xWTwzZeTbxa6sXhv%2B1TpsUYSPTS50c2/kBlWTf5AuCygGYoSh634m/se3fxk0nTPCXxN/ah%2BJGq%2BHILGxt/EfhopocFr4ma2mExmvHg0xJ42mZUEqWkttEyrtEagsG9S/4Q/Sf%2BfvVf8AweXf/wAdo/4Q/Sf%2BfvVf/B5d/wDx2gDyax/4J2fscaD%2B03o37Xfgz4A%2BEvD3jjRrDWoE1TQPCenWr3lxqkls9xf3Ei2/my3a/Z3RJt4IW9uwwfzjir8JP2Itc%2BD/AIE8feC9I/bL%2BKmpT%2BP9Xk1W517VbLwwbzSb2Z91zPaLDoscGZhtVlnimRQg8tYySx9j/wCEP0n/AJ%2B9V/8AB5d//HaP%2BEP0n/n71X/weXf/AMdoA5T9l/4BWv7LvwI8Nfs/6V8TPEnizTPCWk2%2Bl6LqfitbD7ZHYwRJDBAxsbW2icRxoqhjHvbGXZjzXf1l/wDCH6T/AM/eq/8Ag8u//jtH/CH6T/z96r/4PLv/AOO0AJ45/wCRJ1j/ALBdx/6LavLvHH/KQv4X/wDZGfHn/p28IV6ifBmhvhZ2vpkyCYrjVrmRG9mVpCrD2IIry7xx/wApC/hf/wBkZ8ef%2BnbwhQB7NRRRQAUUVm%2BMPGXhD4eeF7/xx4/8V6boei6XbNcanrGsX0dta2cKjLSSyyEJGgHVmIAoA0qK5zTPjD8I9a%2BGQ%2BNej/FLw5d%2BDTp7348W22uW8mmG0QEvcfalcxeUoVsvu2jacnisS%2B/as/Zd0z4VWvx21L9pLwDb%2BB725%2BzWXjKfxjZJpVxNuZfLS7Mvku%2B5HXaGJyjDsaAO%2Brxn9g//AJIhrn/ZZviP/wCprrdew2F/Y6rYw6ppd7Fc21zEstvcW8geOWNgCrqw4ZSCCCOCDXj37B//ACRDXP8Ass3xH/8AU11ugD2aiiigAooooAKz/Fvizw14D8L6j428Z65baZpGk2Ul3qeo3sojitoI1LPI7HgKFBJPtWhXyP8A8FVdY1T4sWnw5/YA8H30kepfGfxbHF4gktmxJa%2BHbErdX8uR90kLGozgON6%2BtceYYp4LBzqpXa0S7ybSivnJr5X7H0nCOQx4l4iw%2BX1J%2BzpyblUna/s6VOMqlap29ynCbSe8uRfaMq4/a6/aw/b01CTwt/wT08Lnwb4C84xah8dfGuknbcKDhv7JsJQDcHg4klATIKkRkBjsn/gnb%2B1FrIz4x/4Kr/FyZj1OiWdlpwz7CNWxX1XoujaV4c0e08PaFp8VpY2FtHb2drAm1IYkUKiKB0AUAAegqzXHHKI1lzYupKpN9pSjFeUYxkkl6uUn1fQ%2BireIdbLpew4dwlHCYeO3NSo160v79WtXpVJSm%2B0I06UdoQt7z%2BQbz4F/8FevgxaS2vwb/bC8BfE6y8tktrT4p%2BE3sbq2BGARcWBJncHnMmAe4r0H9jX9hnR/2cLrU/i98UPFsvjv4u%2BKx5njDx/qaZkfOD9ktFI/0e1TAARQNwVcgBURPfaK1o5ThaNaNW8pcvwqUnJRfeKleztpdttLRWu78OY%2BIOf5jllTBKFGiqtvayoUKdCdaK1UKsqSipQUve5IxpxlK0pqbjHlKKKK9M%2BHCiiigAooooAKKKKACiiigAooooAKKKKACiiigAooooAKKKKACiiigAooooAKKKKACvGf2X/%2BS3/tHf8AZZrH/wBQrwvXs1eM/sv/APJb/wBo7/ss1j/6hXhegD2aiiigAooooAKKKKACiiigAooooAKKKKACiiigAooooAKKKKACiiigAoqO9vbPTrOXUNQu4oLeCJpJ55pAqRooyzMx4AABJJ6VzXw/%2BOfwT%2BLHgSb4pfCz4w%2BFvEvhi3MwuPEfh/xBbXthEYhmUNcQu0a7By2W%2BUdcUAdTX5y/8F0f%2BJf8Xvgj4x6f8I7p%2Bralu/u7fEng5M/%2BRK%2B8fhP8cvgp8etDn8T/AAM%2BMPhbxpplrcm2udR8J%2BILbUYIZgoYxtJbu6q%2B1lO0nOGB718K/wDBe/T5rzwtbXlp/r9P%2BDfiW8gb%2B60fizwIxP8A3zurys9X/CNiH2hJ/dr%2Bh9/4VSS8S8ni9pYmlB%2BlRum/wqM/ROioNL1CHVtMt9UtjmO5gSWM/wCyygj9DU9eqndXPgZRcZOL3QUUUUCCiiigAooooAKKKKACiiigAooooAKKKKACiiigAooooAKKKKACiiigAooooAKKKKACiiigAooooAKKKKACiiigArxnxx/ykL%2BF/wD2Rnx5/wCnbwhXs1eM%2BOP%2BUhfwv/7Iz48/9O3hCgD2aiiigArxD9v7w34i134J6Nq2ieFNS1%2B08N/Evwrr/iDQ9H06S8urzTbHWrS5uDFbRK0ly8Kx/aRCitJJ9n2oruVU%2B30UAfF3hr4e2nxJ/ZP%2BLfh7xfoXjrwjp3if4l3/AI88J23/AArLVLq7s7WLWYLu1lfTRb%2BZM1xe2b3kmnYW5eG7IeONpDjgPCHw4%2BNGhaVrn7Yfj/xj4ns/EN78er3X/ATW/wCzlrmpR3FnceFLHRpzN4atpTf6bHJJZXTxSTzo6lo3mY/anjb9EKKAPCf2KvhL8dfhJ/wT8%2BHvwh1TXrPSPHWkeCbS287xHpX9oQ6ZNtBS3nt7W4t1l8lCsJSGZEzH8jbQMu/4J02/iW0/ZuvrXxlq1jf6vH8W/iGup32mac9pbXE48Z615kkUDzTNChbJCNLIVBALtjJ90rxn9g//AJIhrn/ZZviP/wCprrdAHs1FFFABRRRQAV8ffsc/8ZS/t5/F79tO7/f6B4QcfDf4cyNyjR2zCXUrlOxD3DKFkHVGZc8V0/7cH7Ynivwpr9t%2Bx5%2ByfpCeJPjT4wsnWztklItvC1k42tqt9IufKVA25FPLNt4OVV/Tv2PP2btC/ZH/AGbPCn7P2hXq3n9gadtv9RWLZ9tvJGaW4uMEkjfK7sASSAQMnFeNUnHMMzhThrCi3KT6c9rRjfq43cn2fLfXQ/S8Fh6vCPBGJxuI9zE5jGNKjF/GsNzc9etbeMKrp06FNu3tIqq4pwTk/TKKKK9k/NAooooAKKKKACiiigAooooAKKKKACiiigAooooAKKKKACiiigAooooAKKKKACiiigAooooAKKKKACvGf2X/APkt/wC0d/2Wax/9QrwvXs1eM/sv/wDJb/2jv%2ByzWP8A6hXhegD2aiiigAooooAKKKKACiiigAooooAKKKKACiiigAooooAKKKKACiiigDyL9vv4feNPit%2BxR8U/hx8PNGl1PWdZ8Daja2WkQOFfUy0DbrNSxCgzruhG4hf3nJAya8//AGZfG9pJ8ZPjH8crf4WeO9F8J%2BLn02XQdO1X4b6tY3eoS6ZpEaXt0bOa2SWJnVre0iWVEe4NiREJEVGP07RQB8v/ALDWl%2BItR/aO%2BMvxUkf4g61oXiOz8OrpXjH4neC5fDupXE0A1ETaXFYyWViTaWiSW7x3LWyvI99MjyzeQCviv/BWnwn8V9T1/wAVL428Y%2BHtS0KT9m7x9deGtN0rwvPZ3dgkGseD5pBc3El7Ml2TsQhkhtwu05DZG39Cq%2BRP%2BCkmi/8ACReMb/RFTc1z%2ByX8WVjGP4/O8LFf/HsVxZlD2mW14d4T/wDSZH03BOJ%2BpcaZZiP5MTh391ej/mz6L/Z41r/hJPgB4G8Rb932/wAHaZc7s9d9pG2f1rsK8h/4J%2B61/wAJB%2Bwr8HNVL7mf4Y6GkjerpYwo3/jymvXq0wc/aYOlPvGL%2B%2BMWcXEmG%2BpcR43D/wAlatH/AMBrVY/ogooorpPGCiiigAooooAKKKKACiiigAooooAKKKKACiiigAooooAKKKKACiiigAooooAKKKKACiiigAooooAKKKKACiiigArxnxx/ykL%2BF/8A2Rnx5/6dvCFezV4z44/5SF/C/wD7Iz48/wDTt4QoA9mooooAKKKKACiiigArxn9g/wD5Ihrn/ZZviP8A%2BprrdezV4z%2Bwf/yRDXP%2ByzfEf/1NdboA9moornviz8TPC3wY%2BGHiH4t%2BN7vyNI8NaNcalqMgxu8qGNnYKD1YhcAdyQO9TOcacHKTslq/Ras2w%2BHr4vEQoUYuU5tRilq3KTUUkurbaS82U/jl8dPhV%2Bzf8M9S%2BL3xn8YWuiaDpUW64u7luXY/dijQfNJIx4VFBZj0FfM8H7Uf/BRX9rm3T/hkf9ma1%2BF/hS9QNB8QvjE2LuaFhkSW2lw7mDYwytKWjYEdOtUf2Zf2d/iH%2B3Z4p8Pft5ftyW8EmmNEmpfCT4SRuZNO0G1kAeG%2BuwwAurx02uCwwoIOAdqRfadeNT%2Bu5qvac8qVF/ClZTkv5m2m4J9Ipc1tW1dJfpWLfDXAE/qaoUsfmMG1VnU5p4ahNaOlTpxlCOInBpqpUqS9ippwpwqKMqkvF/2NP2LfBv7I/hnUruXxFdeLPHXim6N7468f6un%2Bm61dEk85LeVCpJCRAkKOSSSSfaKKK9XD4ejhKKpUo2iun9atvdt3berZ8FnGcZnn%2BZVMfmFV1KtR3cnbokkkklGMYpKMYxUYxilGMUkkFFFFbHmBRRRQAUUUUAFFFFABRRRQAUUUUAFFFFABRRWL8RviL4J%2BEngTVfiZ8R/EdtpGhaJZPd6pqN2%2BEgiQZJPcnsFGSxIABJAqZSjCLlJ2S3JnOFODlJ2S1beyS6m1RXwr8MfhX%2B0l/wAFONXvv2qPHXx/%2BKfwZ%2BH1wgg%2BEvhXwF4iOl3t5YhsnVNQ%2BR1cz8FIyOExg7cNJ2n/AA77/bG8N/8AJNP%2BCsnxKtdv%2Br/4Snw3p%2BtY%2Bvm7N1eTTzPFVo%2B0pYaUoPZ80E2u/LKzSe6u7tWdlc8KlnGNxEPa0MHOVN/DLnppyXSXJJxaT3V3dqzsrpH1tRXySf2W/wDgrFP/AMSW4/4Kk6Klofv6vB8FdOF4R6CMyeWM%2Bucihf8AgnD%2B0jqH/Ey8Sf8ABVX4zS6kfvS6YbSztfwt1QqPzq/7Qxsvhwk/nKmv/bpXNP7UzGXwYGp/29KlH/2%2BVz62or5K/wCHff7YVt%2B707/grD8S1iHQXPh3T5m/76IGaP8Ahgz9uS1/eaT/AMFa/HKSdjeeBdMnX/vkkUfX8f8A9Akv/Aqf/wAkH9p5mt8DP/wOl/8AJH1rRXyWP2O/%2BCocH7uy/wCCwcojH3RP8BNFkb8WMvNIf2Tv%2BCrNj%2B9tP%2BCtNjfN/wA8r34D6REv5xy5o/tHF9cJU%2B%2Bn/wDLA/tXHdcDV%2B%2Bj/wDLT61or5K/4Z2/4K7XP%2BjTf8FGPBlsg6XNv8IrZ5D7lWk20o/ZF/4KozfvJf8Agr5FCx6xxfADRWVfoWlzR/aOJe2Eqf8AlNfnUD%2B1sY9sDV/8pL86p9aUV8l/8Mg/8FTf%2Bkwo/wDEfdE/%2BO0h/Yx/4KX3/wAmu/8ABX/UHT00/wCCWjWrY/3lkNH9oYz/AKBKn30v/lgf2rj%2BmBq/%2BBUf/lp9a0V8lf8ADAv7ar/NN/wVn%2BIJc/eKeENOUZ9h2o/4d4ftV6h8viD/AIKt/FiRfTTtNsbQ/mqmj69j/wDoEl/4HT/zD%2B0sze2Bn/4HS/8AkmfWteM/sv8A/Jb/ANo7/ss1j/6hXhevMP8Ah2x8e7H95of/AAVO%2BOUch5Jv7%2B1ulz/utGOPaui/4J1/D7xl8LNb%2BPPgPx/8WdS8c6tYfGaD7V4p1i2jhub0P4R8NyJvSP5RsR1jGOojBPJNdGGxGLqzcatBwXfmjJenu6/gdWExeNr1HGthnTVt3OEl6e7r%2BFj6TooortPRCiiigAooooAKKKKACiiigAooooAKKKKACiiigAooooAKKKKACiiigAr5x/an0X/hJP2ovD3h3Zu%2B3/s4/Ey2246773wmuP1r6Orxb4g28V3/AMFAvhnazpujl%2BC3j1HX1B1XwgCKipFTpuL6pr701%2Bp0YSvLC4unXjvCUZf%2BAyjL/wBtOc/4JIa1/b//AATf%2BEl9v3eX4Y%2BzZz/zxnlhx/45X0ZXyd/wRFuJV/4Js%2BBdCun3TaPf63YTE%2BqaveED/vlhX1jXn5LJzyfDSf8Az7h/6Sl%2Bh9h4m0I4bxIzmlHZYrEW9HVm1%2BEkwooor0z4cKKKKACiiigAooooAKKKKACiiigAooooAKKKKACiiigAooooAKKKKACiiigAooooAKKKKACiiigAooooAKKKKACvGfHH/KQv4X/9kZ8ef%2BnbwhXs1eM%2BOP8AlIX8L/8AsjPjz/07eEKAPZqKKKACuO%2BPHxs8Nfs/fDqX4ieJtI1PVN2pWOmaZouiQxyXuqahe3UVpaWkCyyRx%2BZJPNGu6R0jQEu7oisw7GvL/wBrf4N%2BM/jP8MLCx%2BGt5pkXibw14w0XxLoEetzyRWV1caffw3JtZ5Io5HiSaNJIfNWOQxGQSBJNmxgDNh/bY%2BGS/s76r%2B0Lq3hPxLp66Jr7eH9V8H3VnbtrEGt/2gmnR6ZsineBppbqWGON1mMDieOQS%2BW2%2BsO9/wCCgvgy20uy023%2BB3jy58b3fjmfwlJ8Mov7HXWLXVIdL/td45ZpNRXTwv8AZzRXQcXZDJNGFy5KDL8HfswfFdfgT8RfA/xc%2BGfgLxPqfxG1zUPE2q6KPGd/b6emoz3CeRYpdJp/nxRwW9vaFdQSMTfaEaRbeLC48jP/AAS6%2BIFt4FFxrXw3%2BG3jmTXvi3d%2BNPG3wm%2BIXi/U9U0C/L6FDo9qsmrX1jd3V9Pbraw3Pm3NqwklllwsWyFkAPsX4IfGDwf%2B0D8HvDHxw%2BH7XR0TxZodtqul/brfyphBPGJFDpk7WAODgkZHBIwTwX7B/wDyRDXP%2ByzfEf8A9TXW60vgH%2Bzxq/gP9kXwv%2BzZ8VfG%2Bo6pd6X4Xt9M1XV9B12%2BsJsoo%2BS3u4ZUuo1jAEaSeYspRAWOSa5//gnT4esPCX7N194W0q4vpbbTvi38Q7a3l1PVJ725dE8Z60oMtxcO807kDmSR2djksxJJoA90r5D/AOCpF/ffG3Wvhf8A8E8/DN3Is/xZ8VJc%2BL2t3Ia38N6cVubskj7hdljVCeGKMvOa%2BvK%2BPv2HP%2BMoP2z/AIxft2Xv7/RdLuh8O/hrK3KmwsnEl9cxnuk1yQysMcb19a8jN714U8Gt6rs/8C96f3pKP/bx%2BieHiWV4nFcS1F7uX0%2BeF%2BuJqN0sMvNxqSlWt2oJn15YWFlpVjDpem2kcFtbQrFbwQoFSNFACqoHAAAAA9qloor19j88bcm23dsKKKKBBRRRQAUUVn%2BKvFvhTwJ4fufFvjfxNp%2BjaVZIHvNT1W9jt7eBSQAXkkIVRkgZJHJFJtRV27IUpRjFuTskaFec/tNftY/Ab9j/AMDW3xE%2BP/jmLRNNvdTisLNjC8ss8znokaAswVQzsQMKqknsDBr/AO2h%2ByT4c8Jaj43vv2k/A8unaVYyXd5LY%2BKLW4YRopZtqRSMztgcKoJY4ABJFfNX7Pf7Ol5/wUk8Wat%2B25%2B2X4Hk/wCEU1vRLvR/g98PNTXjS9EuEMcmpyr0F3codysOUUqykgRFPKxmPm7UME4yqy21vGKW8pWb06JbtvTZs8TMM0qPlw2XOM607ta3jGK3nPlb0vaKV7yk7LRNr7dsr2z1Kzi1HT7qOe3niWSCeFwySIwyrKRwQQQQR1qWvkr/AIJnfEPxd8L9R8V/8E4/jXrEl14q%2BEbr/wAIrqVycNrvhaU/6Fcr2JiBWBwOE/drkkNXRftP/t0eK/Cnxfsv2S/2QPhxZ/EL4sXkH2rVLG6vWh0vwxZYz9p1GZOULZXbECHYMDkFo1kunmuHeBjiKnutvlcd5c97OCS1bTT23VnotS6Wd4R5bHF1bxbfK42vL2idnBJaykpJpJbq0tE7r6TJAGSa%2BWPid/wUrn1z4o3XwI/YT%2BBV38b/ABVpRP8Awkt1peuRafomiYz8k2oyq0TTEjAiXrhhu3KVrC1L9iT9vT9pyyfS/wBtH9ty30fw1e4XVfAHwc0T7Db3MROWhbUZ83LRsPlZSpBBPPNfTXwY%2BCHwm/Z4%2BH9l8Lfgr4E0/wAO6DYLiCw0%2BLaGbAzI7HLSyNgbpHJZjySaydTMsc7Qi6MOsnyub8oxvJR83K77R6mTq5vmUuWnF4en1lLldR%2BUY3lGHnKbk%2Bij1PnQfFH/AILP%2BI/32j/st/Bbw4nXyPEPja7vH%2Bm61UDNMuPiN/wWs8NxnW9S/Zz%2BBfiO3t/mm0XQPFl/a3l0v9yKW6HlI3u/FfXFFX/ZlT/oJq3/AMUfy5LF/wBjVt/rla/%2BKP5ezt8j5AH/AAV88H%2BCM%2BFv2hv2SPjH4J8ZH5LLwsvhB9R/taX%2B5YXMJEdz3%2BY7BwaVP2t/%2BCoHxEJ8a/CD/gm9aaX4atxvj0z4heOIbDWtWQ9o4QNtm47ibcPQ19fUUvqOYz0qYqVltyxhF/N2lf5JJ9Rf2bmtT3auNlyrblhTjJ/4naafyjFPqfIE/wDwVR%2BIWix/8IV4r/4JufHCz8fznZp3hu10OO5sLx%2B5TUkby/KX%2BKTZhQQcHnFEfsr/ALZP7d3ijQ/EP/BQI%2BGvCHw30jVE1OD4LeF7l72XU5o%2BYV1W8yI5VRjkxxAo%2BOQp5H2bRSeV1a/u4uvKpBfZtGKf%2BLl%2BL0uovrFkvJq2J93HYiVWC%2BzaMIu2vv8ALrP0vGL6xewy3t4LSBLW1gSKKJAkccahVRQMAADoAO1Poor1z3gooooAKKKKACiiigAooooAKKKKACiiigArxn9l/wD5Lf8AtHf9lmsf/UK8L17NXjP7L/8AyW/9o7/ss1j/AOoV4XoA9mooooAKKKKACiiigAooooAKKKKACiiigAooooAKKKKACiiigAooooAKKzfGfjHwr8O/B%2BrfEDxzr9rpWiaFps%2Boaxql7KEhs7WGNpJZpGPCoiKzE9gDXI/DD9qD4L/GHwPrvxB8D67qjWPhiWSLxDaat4W1HTdQ090to7rbLYXlvFdIWglilQGL94kiMm4MCQD0CvGfHH/KQv4X/wDZGfHn/p28IV1nwV/aQ%2BEv7QDavbfDjVNXW90GWFNZ0fxH4V1HRNQs/OQvC8lnqNvBOscihikmzY%2BxwrEowHJ%2BOP8AlIX8L/8AsjPjz/07eEKAPMf%2BCOP/ABL/ANnPxp4P6f8ACPfGjxRp2z%2B7tu9%2BP/IlfWlfJf8AwSu/4lOu/tKeD24%2BxftNeJLmJf7sVwts6j6cGvrSvJyPTKaS7Jr7pTX6H6B4qe94g5hU/nlCf/gyhhqn5zYUUUV6x%2BfhRRRQAUUUUAFFFFABRRRQAUUUUAFFFFABRRRQAUUUUAFFFFABRRRQAUUUUAFFFFABRRRQAUUUUAFFFFABRRRQAV4z44/5SF/C/wD7Iz48/wDTt4Qr2avGfHH/ACkL%2BF//AGRnx5/6dvCFAHs1FFFABRRRQAUUUUAFeM/sH/8AJENc/wCyzfEf/wBTXW69mrxn9g//AJIhrn/ZZviP/wCprrdAGz%2B2j8Wv%2BFE/slfEf4txXXk3Gh%2BDr%2Bewfdj/AEowstuM9szNGPxrB/4JxfCJPgb%2Bwv8AC74ctZC3uIPCFrd6jEFwVu7pftU4PqRLM4z7V5r/AMFiZpvGPwA8G/sy2Mref8XfitoHhmaONsMLQ3IuZpOOQqi3TcfRq%2Bs4IIbWBLa2iWOONAsaIMBVAwAB2FeTT/fZ3Ul0pwjH5zbm/wAIxP0HGf8ACb4YYOjtLGYqrWfnDD04YeHy9pVrNeaduo6iiivWPz4KKK%2BV/wDgo78bfiNqt74X/YP/AGavEEtj8SPivKyXWsWbkSeGfD8ZP2zUmZSCjFQ0cZyCW37SHVc8uMxUMFh3Vkr9Elu29FFeben3t6JnFmGNp5fhJV5pu1kkt5SbtGK85NpL5t6Jnf8A7Sf/AAUF/ZR/ZVu08PfE/wCJ0M/iOdlSy8HeH4W1DV7l2%2B6i20OWTd2MmxT2NeZr/wAFrf2HNJIX4kX3jnwYc4ceKPh3qUWz6%2BVFJXq/7Mn7CX7Ln7I1jn4M/CyxttXlQi/8UagDdareufvvJdS5k%2BY5YopVMk4UV666JIhjkUMrDDKRkEVxqnndT33UhD%2B7yuaXrJyi2/RJdjgVLiOt77q06b/lUHNL1k5QbfpFLsecfCL9sH9ln486LLr3wh/aA8Ka7Bb2zXF2lprMQmtYlXczzQuRJCAoJJdVwBmvmDSLDUP%2BCv8A8bE8W67azx/szfD/AFhv7FsJ0ZB8RNYhYqbmRTgtYQtkKp4c5ByS6xe1/HH/AIJf/sF/tDTyaj8R/wBmrw%2Bt/K26TVNCifS7qRj1LyWjRmQ9vn3cV7R4K8FeE/hx4R03wF4E8P2ulaNo9lHaaZptlEEit4UUKqKPQAf41nLCZhjZqnjOT2S1ajze%2B%2BikpbRW7V3zOyfupp5TwOa5jUjSx/J7GOrUOb941spKS92C3cby53ZP3U1Lxy6/4Jhf8E9by6S8l/Y88Bq8cgdRDoMca5ByMqoAI9iMGvdYYYbeFLe3iWOONQqIi4CgcAADoKdRXp0cLhsNf2VOMb72SV/WyR7GHwWDwjboUowvvyxjG/rZK58yft8/sdfGn4yeLfBv7Q37IXxB0zwf8VvCLz6bHrmqITBc6PdoyTwyqI3EhiZvOjVlKht/cgjv/wBjv9jn4cfsdfDubwx4VurnWfEGs3JvvGfjPVm8zUNfv2yXuJnJJxuZtqZIUMeSzMzeuUVhDLcHDGyxSj7789E7WbS2TaSUmtWklfvzU8owFPMZY1R/eS83ZOyTaWylJJKUlq0km%2B5RRRXcekFFFFABRRRQAUUUUAFFFFABRRRQAUUUUAFFFFABRRRQAUUUUAFFFFABXjP7L/8AyW/9o7/ss1j/AOoV4Xr2avGf2X/%2BS3/tHf8AZZrH/wBQrwvQB7NRRRQAUUUUAFFFFABRRRQAUUUUAFFFFABRRRQAUUUUAFFFFABRRRQB5h%2B2p8IfFXx8/ZM%2BIfwd8CvajW/EHhS8tdHjvpSlvNdGMmKKVgCVidwqO2DhWY4OMHgfgTH8eNL%2BJ3xU/aN8X/sveJ9GuPGlvZLofg6fXdElvFXStOwv2iSG/e3Sa7uJ5oYtksiqlvG8zw7tq/RtFAHzr%2BwJ4f8AjdeP4y%2BM/wC1F8DfEvg/4k%2BM7mym14axqOj3FjBawpKtppWmnTr%2B6ZrazV5N0s4ieea6mmCKJPKhff8AgvxJ4e/4KbeC/EWrfFzxDrtnq3we8cPYaDqttpyWmihdW8JZS2a2tIp3D7hn7RLOfkG0r82foevGfHH/ACkL%2BF//AGRnx5/6dvCFAHmP/BP/AP4k/wC2P%2B1j4O6eR8SNM1Lb/wBfenh8/jsr60r5L/ZV/wCJJ/wVX/ap0Y8LqumeCdRiT/c02WFyPq1fWleTkumCce06q%2B6pP/M/QPEz3%2BJqdb/n5hcFP/wLB4e/4wf3BRRRXrH5%2BFFFFABRRRQAUUUUAFFFFABRRRQAUUUUAFFFFABRRRQAUUUUAFFFFABRRRQAUUUUAFFFFABRRRQAUUUUAFFFFABXjPjj/lIX8L/%2ByM%2BPP/Tt4Qr2avGfHH/KQv4X/wDZGfHn/p28IUAezUUUUAFFFef/ALS/xxufgD8NYvFmi%2BEV8Qa1qviHS9B8N6HJqP2OO91HUL2K0gWWfy5DBCrS%2BZLII5GWKNyqSMFRgD0Civn25/boutC/Ze8U/G7xb8KY7TxP4O8YnwjrfhK38RCS0j1h9SgsIMag8CYspDdWtwbloFaOCUs8QZGjqpZ/tofFfWvhb8QPE%2Bi/Cv4eReIfhB4ou9I%2BKVhq/wAU7uHSdLWDS7bVDcW1/Do00lyPst5bMyvawFH81DzH8wB9G14z%2Bwf/AMkQ1z/ss3xH/wDU11uuz/Z0%2BJPi/wCMvwC8F/F3x98OT4Q1nxR4XsdW1Lwq2pG8bSJbiBJTatMYovMePfsY7F%2BZTxXGfsH/APJENc/7LN8R/wD1NdboA8t%2BPv8Axd7/AIK3fBL4UqfNtPht4G1zxvqkA5UvcldPti3ukgLL35r3f9pf9qD4MfskfDG5%2BK/xt8Vpp2nxN5VnaxL5l1qNwR8ltbRA5llbsBwBlmKqCw%2BVfhz8b/CPgX9p79r/APb28eyh9B%2BHkGn%2BEdJIcBnewtt91aqx43y3jwqo/vOM11n7GX7I/jH4za/of7f37dOoDxH8Q9WsI77wf4Vmtyml%2BB7SUCSKK2t2J/0naULyvl1bA%2B8pc/L4XF15zqxwyTqVZzld/DGEWqak%2Br%2BB8sV8T6pJs%2Bq8UcdicDjss4dwcU6uHwVDmv8ADTlWUsTUlJbt8%2BIhFRWsnHVqKbJrT/gqV8QFtYr/AFf/AIJg/tHpBNGJI20/wTHdMUIyCVEykHB6HkV7R%2Byt%2B2B8FP2wvBVx4u%2BEmr3Udzpt0bXxB4b1q2%2BzapotyCQYLu3JJjbKsAQSp2nDHBx6jXzP%2B1j%2BwfrHjLx/H%2B1f%2ByD4yh%2BH/wAZ9Mh2/wBqCM/2d4mgGP8AQtUhUYlRgoUS4LrhfvbE2ehOGbYNKoqntkt48sYyt3i07Nr%2BWVk9k07X/Np088wCVVVfrEV8UOSEJW7wcXZyX8srKS0Uk7X9c/aP/aV%2BDv7KPwtvvi78bPF9vpOlWakQo7Az30%2BCUt7eP70srY4Ue5OFBI8S/wCCb3wV%2BIWr3Hib9vP9pDQ5LP4jfFp0ltdJuVO/w34fQj7FpqhgChKhZJBgFm2bgHVst/Z7/YK8deLPiha/tbf8FB/Fdh43%2BJEBL%2BG/DlkjHw/4NQnISzhfiSYYBM75O4AgllEh%2Bq6dCliMdiY4nER5YxvyQe93pzz6J2uoxV%2BW7bfM9Hh6GLzLFwxmKhyQhd04P4rtW559FK11GKvy3bb5n7pRRRXrnvBRRRQAUUUUAFFFFABRRRQAUUUUAFFFFABRRRQAUUUUAFFFFABRRRQAUUUUAFFFFABRRRQAUUUUAFeM/sv/APJb/wBo7/ss1j/6hXhevZq8Z/Zf/wCS3/tHf9lmsf8A1CvC9AHs1FFFABRRRQAUUUUAFFFFABRRRQAUUUUAFFFFABRRRQAUUUUAFFFFABRRRQAV8a/tv/Hd/gJ/wVO/ZMvr%2B4EWkeL9B8deFNUkY9GvJ/DbWw/G6ggGfQmvsqvhn/gr38ENU%2BO/i/RNC8LCRfEWg/A3xz4j8LTwD97FqGn6z4PuY/L9HdY3iH/XWuLMpV4YGpOj8UVzLz5WpW%2BaTXzPOzaWJp5bVqYf44rmS78rUrfNRkvmdj8OnTw9/wAFpPiPo0rCNvEPwO0jU4kbgyiC%2Ba2LD1AJxmvrWvgX4s/G/TNc8V/skf8ABUHQSkOn%2BIZ4/CPjgwn5IoNXhKhZD2S2vY5cnpuxX31XFk9WEnXhF3XPzrzjUUZxf5r1R%2BncZVaWa5RkmdUHenXwdOnf%2B/hnOjNfOMqM15SXYKKKK9o%2BCCiiigAooooAKKKKACiiigAooooAKKKKACiiigAooooAKKKKACiiigAooooAKKKKACiiigAooooAKKKKACiiigArxnxx/wApC/hf/wBkZ8ef%2BnbwhXs1eM%2BOP%2BUhfwv/AOyM%2BPP/AE7eEKAPZqKKKACvPv2l/gddfH74axeE9F8Xr4f1rSvEOl694b1yTTvtkdnqOn3sV3A0tv5kZnhZovKljEkbNFI4V42KuvoNFAHhvw//AGVviN4I%2BEfjHwDqnxM8H%2BIdU8dXWpar4ivte%2BHck%2Bn3eq3szGQyWJ1HD2C2whtltDL5myHc9y7MTXJ%2BHv8Agmt4e0P9ljxl%2BzXbeLtC0tfiX4utdW%2BIMnhPwRHpelXVipsLa60qy05LhhZW82mWCWPMszL5skzea7MD9PUUAZnjLwT4M%2BIvha98DfEHwjpmu6JqUHk6jo%2Bs2Ed1a3UeQdkkUisjrwOGBHFeMf8ABPjRvCPw2/Zf1TQfDOhWGjaFoXxV%2BIsNjpumWiW9tZWsPjLWgsUUSALGiooAVQAAAAK96r5Y8BeKv%2BEG/wCCdPxn8a%2BZsOkeJ/i/eKw7GLxR4gcfjkVnWqKjRlUf2U39yb/Q68BhXjcfRw17e0nCP/gU4x/9uPi79jzT7r9svw58Kf2WJEM1j418aa18ZvjsF5SS3XU5YLGxkPRhcSQRFlOG2%2BW46V%2BvAAAwBgDoBXwd/wAG/X7PFr8Pf2OF/aB1orNr/wASLncZmTDW%2Bm2LPZ2sH5xyy5HUSrnla%2B8a%2Bf4Ww1SllUK9X46ii/SKXur8ZSfnNjzvN6HFPFuacR0vgxtepUp305cOpOGHjbpajCDt0crPVMKKKK%2BkOMKKKKACiiigAooooAKKKKACiiigAooooAKKKKACiiigAooooAKKKKACiiigAooooAKKKKACiiigAooooAKKKKACvGf2X/8Akt/7R3/ZZrH/ANQrwvXs1eM/sv8A/Jb/ANo7/ss1j/6hXhegD2aiiigAooooAKKKKACiiigAooooAKKKKACiiigAooooAKKKKACiiigAorN8Z%2BMfCvw78H6t8QPHOv2ulaJoWmz6hrGqXsoSGztYY2klmkY8KiIrMT2ANct8If2k/hB8dPCmr%2BMPh1rWpyW%2BgXbW2uWWseGdQ0vULCUQR3ISayvYIrmMtBNFKm6MeYkiMm4MCQDu68Y8dKr/APBQn4YI6gg/Bjx4CCOCP7W8IV2fwG/aC%2BFf7S/gV/iP8H9Y1C80qLVbrTZzqvh6%2B0u4huraUxTRPbX0MMyFXUj5kAPUEgg1xvjj/lIX8L/%2ByM%2BPP/Tt4QoA%2BPfBvwJn8R/sv/tVf8EtVgf7f8O9dn1/4a265DLp93/xNNNjiPXKzxMjMvQz4xzg/a37E3x4h/aa/ZN8AfHIXCy3Gv8Ahu3k1Mp0W%2BjHk3Sj2E8co/CvLf23/wBmr4waP8RdO/by/Y3Jb4neFdM%2Bx674WklItfGuiKxkewkHadclonHO4AdQhXyr/ghn%2B0P4H8e6d8XPgd4KjubPS9A8cSa94a0jUIjHPpunalukawZD/FbXEcsbkcFnyOGFfIYKTyzOqeEmrc0ZRj2lGLc6dvOKlODW6tF7NH0PC1aGI8PMdw7XdquArRxVC/28NVfsKyh3dKTw0pxWsUlO3K7r75ooor68%2BeCiiigAooooAKKKKACiiigAooooAKKKKACiiigAooooAKKKKACiiigAooooAKKKKACiiigAooooAKKKKACiiigArxnxx/ykL%2BF//ZGfHn/p28IV7NXjPjj/AJSF/C//ALIz48/9O3hCgD2aiiigAooooAKKKKACvg74%2B%2BLh4J/4I4fHjWWkK%2Bd49%2BJFhkf9PXjzVrXH4%2BdivvGvzJ/4KAeI59P/AOCQHjHwVZqWuPGH7SXi7R7ZB/E//CwNZugPf/j1ry88q%2BxybEz7Ql%2BKaX5kVcVPA0Z4mHxQjKS73UJtW8%2Bblt52PtP/AIJ5%2BCl%2BHv7Cvwi8K%2BR5ckPw90qa5jIxtmmtkmlH/fcjV7HVTw/olj4a0Gy8OaXHsttPtIra2T%2B7HGoVR%2BQFW67sNRWHw0KS%2BzFL7kl%2BhlhKEcLhadGO0Ixj9yS/QKKKK2OgKKKKACiiigAooooAKKKKACiiigAooooAKKKKACiiigAooooAKKKKACiiigAooooAKKKKACiiigAooooAKKKKACvGf2X/APkt/wC0d/2Wax/9QrwvXs1eM/sv/wDJb/2jv%2ByzWP8A6hXhegD2aiiigAooooAKKKKACiiigAooooAKKKKACiiigAooooAKKKKACiiigDzD9tT4Q%2BKvj5%2ByZ8Q/g74Fe1Gt%2BIPCl5a6PHfSlLea6MZMUUrAErE7hUdsHCsxwcYPGfs06Z8Zz8bPiP8AHn4jfs9eIfCSePX06DTdAvtX0i5ubKHTLEJ5101peyxCS4nuJo41ieUCO2jaVoi%2BxfoKigD55/4J7Wfxm0jQviLYfGP9m7xV8PZNT%2BJ%2BteIdIHiXVdEuhfWmoXk08ap/ZeoXmySNQokEmwZkXYZAGKpf%2BC/Enh7/AIKbeC/EWrfFzxDrtnq3we8cPYaDqttpyWmihdW8JZS2a2tIp3D7hn7RLOfkG0r82foevGfHH/KQv4X/APZGfHn/AKdvCFAHs1fnT/wVR/Zu8XfsnfEWx/4KXfsdeM7jwHrM2qw6d8VriyslubOexuZEQX81qQVkAlEYlXBLlo5AFdWdv0WrF%2BI3w/8ACfxX8A618MvHelJfaNr%2BmT6fqlo/SWCVCjjPY4JweoOCOlebmuXxzLByp3tNawls4yWzTWq7O3Rs7sqWSLNqE82oOth1L34qUoT5JJxm4TjKMoTUZNwaduaMVKMouUX8reH/ANrf/gqR4Y0yLw74r/4JyaR4/wBRWNXt/F3gT4n2Vlo2qwsoKTxLdq0kW4c4b1zgAircvxg/4LH/ABSI0vwd%2Bx38MvhZuH7zVPHXxA/tsID1KR6cq/OO24bc4zUv/BL/AOI/iXwJY%2BK/%2BCe3xj1sz%2BMfgvfiz0i5uWxJrHhqTDafeID94LGyxMFyEAiBO5q%2Bs64MDh62OwkajxNRLZxvBNNaSi5KHNdNNX3ej6nNxTwRj%2BGc9rZbUzCrUpxs6c1yRVSjNKdKopKnzWqU5Rle90%2BaL1iz5Hj/AGX/APgrQo/4SI/8FPfD/wBvlO6XQT8G7E6fF6Ik2/ziOvJGTn2rL1b9q79uT9hzV4tW/b18F6D42%2BGl1tW5%2BJfwx0qdZfDz5xu1CyYljCeD5kQwvT52ZUr7MqO6tbW%2BtZLK9to5oZoyk0MqBldSMFSDwQRwQa6pZU6a5sPWnGS2vOU4v/FGTaafWzi%2BzTPnZZI6S5sLiKkJrZynKpFv%2B9GbaafWzi%2BqadjK%2BH3xE8CfFjwbYfEL4aeLdP13Q9UgE2n6pplys0MyH0ZT1ByCOoIIIBBFbNfKXif/AIJM/C3QvEt/44/ZP%2BOHxB%2BCmqX901zPY%2BBdcI0eWY4y0mnygxsvA%2BRSijGAAMCqkf7Kn/BVu/T%2BwtT/AOCpmlWljD8ianp/wa09r26T1kDybI27ZTPTNNY3MaS5auGbfeEouL/8CcWvnf1BZjm1FctfBylLvTlBxf8A4HKEo%2Bkk%2B131%2BuKK%2BSD/AMEvfiH42O747/8ABSX46%2BIkP%2BtsdB8QxaHaTeoeK3jbI9sij/hzj8BNB/0z4T/H342eB9QPzSal4Y%2BJtyks0n9%2BTzhIGJ7gAZp/W81lrHC6edSKf4Ra%2B9lfXs7lrHBWXZ1YKX3KMl98j63or5KH/BPj9r3Sh5Xhf/grB8Took4iGraDYXzgdtzOAXPuetYWpfGz9uX/AIJ26m9/%2B1Zd3Pxt%2BEcrh7j4j%2BHdBjtda8M5%2B817Yw/LNbA5PmpkqMlmztjMyzSrQXNiaEoR6yvGSXm%2BVtpedml1stVMs6rYZc%2BLws6cOsrwnGPnLkbkl3lytLd2Wq%2BtviX8SPBXwf8AAGsfFD4ja/BpehaDYSXmqX9wflhiQZJwOWJ6BRksSAASQK%2BafgV/wWH/AGZ/ibqmm%2BHPi/oPiX4Ralr8C3XhcfEfTTZWetWcmDDcW93/AKkhlZThmXlsKX61wniHxjpP/BYL9oKy%2BGXw71R779nT4dXVrqfjXV4o3ji8Z6wVWa30xdwDG3hBV5QQPm4IB8p6%2Bx/iZ8GPhL8ZvBMnw3%2BK3w40bxBoMqBTpWq6fHNCmBhSgYfIyj7rLgr2IrKOJx%2BYVJVcFOKpx0V1dVH1d001FbKUb3d3ZxWuEMXmeaVZVsvqRVGGkeaPMqr%2B00004wXwxlG/NLmdnFK/R29xBdQJdWsySRSIHjkjYFWUjIII6gjvT6%2BSv%2BHHP/BM5jiT4B3zRg/JCfHGsBEHoALvgCmn/gjT%2BzV4X%2Bf4C/Fn4vfC9l5iHgX4lXkSKf8AduDNkeozzW/1jOY6vDwfpU1/8mppfidP1riCOssLB%2BlbX/yakl97Preivkj/AIYa/b88EfN8If8Agq74oaJPu2XjnwFp%2Bs%2BYP7rTOVcfUDNH/DFX/BRPx3z8XP8AgqlrFnbv97TvAXw8sNMMY77bnc0h%2BpHFH9oY3b6pO/8Aip2%2B/m/QP7UzDb6jUv8A4qVv/Auf/wBt%2BR7h%2B0T%2B11%2Bzd%2Byh4eHiT4//ABc0nw7HIha1s7iYyXl3j/njbRhpZeePlUgd8Vz/AMA/%2BChv7F/7TEsen/CL9oPQLzU5G2jQtQnNjqG/oVFtciOViDwSqke9Y/7O/wDwTT/Zc/Z78SH4lf8ACPX/AI28dzSCW7%2BIHxBvjqurSy/89FklG2Fu2Y1VscEmup%2BPf7Dn7I37T0cjfHP4AeHNdupVw2qvZeRfgeguoCk6j2D1N89l%2B8Spr%2B4%2BZv5zWl/SDXmyVLiWf71KlH%2B43Nv51I6J%2BSg4%2BbMv48f8FFP2Kv2bJ5NN%2BK/7Q2gW%2BpxtsOhaZOdQ1DfnAQ21qJJFJPA3KB715k//AAWH%2BDepo0vw7/Zb%2BP3i9AMiTw38Kp5FI9cyyR8V7J8Bv2I/2S/2Y4ox8DPgB4b0C5iXaNTisBNfEejXU2%2BZh9XPWvU6fss6q6yqwp%2BUYOf4zkr/APgKQ/YcQ19Z16dLyjBzt/29OUb/ACikeT/sxftt/s1/te6TLefBT4i291qNmCNW8N36G11TTXB2ss9rJh1w2V3AFCQQGNesV4b%2B0x/wTv8A2av2oNct/H/iPQtR8MeNrJ1fTviF4G1A6XrdswGARcRgiTA4HmK%2B0E7cV55/w6iujwf%2BCl37V%2BO//F3R/wDI1Cr5zR92dGNT%2B9Gahf1jJNp%2Bja7CjiM/w/uVMPGrb7UZxgn6xmm0%2B9pOPZ9D61or5K/4dAfCi/8A%2BRu/a0/aF8QZ%2B9/bPxYnfd9dka0f8OTP2Cb7/kbfC/i/X8/e/tj4hao%2B767J1p/Wc4lth4r1qr9IMr63n0tsJFetZf8AttNn1Nqnirwxomf7a8R2Fnjr9qvEjx/30RXPal%2B0L8AtHz/a/wAcfB9rjr9p8TWqY/76kFeE6X/wRT/4JhaRj7L%2BytYvjvdeItUn/wDRl01dDpv/AASg/wCCculY%2By/sh%2BEGx0%2B02jzf%2BjHaj2meP/l3TX/b83%2BUEHteJJf8uqK/7iVH%2BVNHb6j%2B2x%2BxppGf7W/a3%2BGNrjr9o8e6cn85qxb/AP4KN/sCabn7R%2B2Z8M2x/wA8PGdnL/6BIaXT/wDgnN%2BwLpmPs37GfwybH/Px4Lspv/RkZrasP2Kv2N9Kx/Zf7JfwytsdPs/gPTkx%2BUNH/C6/%2BfS/8Gv/ACD/AIyV/wDPhf8Ag5/5HFX3/BVj/gnRp2ftH7X3g1sf88L9pf8A0BTWPff8FkP%2BCZ%2Bn58/9rDRWx/zw02%2Bl/wDQIDXs9j%2Bzj%2BzzpeP7M%2BA/gy2x08jwvaJj8o62LH4a/DrTMf2b4A0S3x08jSoUx%2BS0cmeP/l5SX/bk3/7eg9nxI/8Al7RX/blR/nNHzVc/8Fwv%2BCXts/lL%2B06Jn7Jb%2BDtZkJ/EWeKj/wCH2/8AwT6uP%2BQR4%2B8T6h6fYvh/qrZ/76txX1fbWVlZJ5dnaRQr/dijCj9Klo9jnT3rw/8ABb/WoH1fiJ74mmvSjL9ap8lf8Pnv2Sp/%2BQR4O%2BKWoen2P4aX7Z/76UUf8PhPgzP/AMgj9mD4%2B6h6fY/hTcNn/vpxX1rRR9Wzd74mPypL9Zh9Tz574uK9KMf1qHyV/wAPadJuONJ/4J6ftTX3obb4QMR%2BZuBVT4J/tUan%2B01/wUK8GPf/ALMnxQ%2BHKaL8GfGXlH4leGhpp1HztW8K5%2BzgSPv8vyhv6Y81Oua%2BwK8Z8cf8pC/hf/2Rnx5/6dvCFa0MNj4VVKriOZdvZxjf5ptm%2BGwmaU6ylWxXPHrH2cI3%2Bak2u57NRRRXoHqBXkP7a/xI8ffDz4T6RZfDLxK2hax4s8f%2BHfDEPiJLSGd9Ji1DU7e3nuY450eJphC8gi8xHjErRl0dQUb16ud%2BLHwn8A/G/wABXvwz%2BJuhtqGj37wSTQxXs1tLHLDMk8E8M8DpLBNFNFHLHLE6yRyRo6MrKCAD50sPjL%2B1RP8Ash/FCw8G%2BINR8VeO/h98Rrvwzb%2BKLXQbWXUr7S4r61aa/js4Ykt57%2BDTrmXESRCOa5tQBCBJ5VeQwft3/tGa5B/woHwTqHxV1fUZfj7c%2BDtO8Xf8INpGneLr7SYvCFt4jLfYtUt7TTrO5MtwYQ91bxL9lhL%2BV5zrX2J4W/ZR%2BC/gj4e3Xwv8IWfiTTdIvbSeG6Fn481iO6lee6kup7s3Qu/tH22SeWSR73zPtLlvmlIAAoyfsU/s5v8ADKz%2BFEfhTV4NPsNfk1211S08Z6tDrSapIsiSXx1aO6GoNcvHNLE8xnLvFI0bEoStAFj4M/HTwdr/AOy5ofxwh8SeLPEumDQ1kur%2B68KvPrdzLExhmE1hpltk3Syo6yRW8G0Or7FCgV8CfGXxloHxS%2BFH7N3w1g0q9ay8a/tv%2BK9YNtqmmXFlc/Y7fxprQlSW3uESaBtl4N0ciK6EYZQQRX6W/Df4ceCPhD4D0n4ZfDfw9DpOhaJZJaaZp8BYrDEo4yzEs7E5LOxLMxLMSSSfzX8M39l48/4KMfs5fCi4jDjQPin8avENwuM7d/irXvJY/SSx4%2BteNn7vl3s/5504/wDgVSF/wTODMYe1oRo2b55wjpvZyTf3RhJ%2Blz9Q6KKK9k7wooooAKKKKACiiigAooooAKKKKACiiigAooooAKKKKACiiigAooooAKKKKACiiigAooooAKKKKACiiigAooooAKKKKACvGf2X/wDkt/7R3/ZZrH/1CvC9ezV4z%2By//wAlv/aO/wCyzWP/AKhXhegD2aiiigAooooAKKKKACiiigAooooAKKKKACiiigAooooAKKKKACiiigAooooAK8Z8cf8AKQv4X/8AZGfHn/p28IV7NXjPjj/lIX8L/wDsjPjz/wBO3hCgD2aiiigD5w/bv/ZF8ZfFK40X9p39mPUodE%2BNPw9VpvDOoPhYdbtOTLpF3yA8MoLBdxGxmPKhmNdn%2Bxl%2B114N/bD%2BEw8baPps2i%2BINJum03xr4Rv8rd6Dqcfyy20qkA43AlGIG5eoDBlX1yvmP9qH9hPxZqvxMl/a5/Ys8fJ4C%2BL0cKrqPnAto/i2FAALXUoBwTgBVmUbl46kIyePiKFfB4l4rDR5lL44L7VtpxvpzpaNac6sr8yTf6Lk%2Ba5VxLk1PIM8rKjOlf6riZJtU%2BZtyoVrJy%2Bryk%2BaE0pPD1HKSi6U6kY/TlFfMX7PP/BTf4YeMvEY%2BBf7Uumj4Q/FmxcQal4R8VTiG2vJOgmsbtsRXEUh5QBtx6DeAHb6dBBGQcg9CK7sLjMNjafPRlfv3T7NPVPyaTPls%2B4bzzhjGfVsyoOm2rxe8Jx6Tp1I3hUg1ZqcJSi01s9EUUUV1HhhRRRQAUjokiGORAysMMrDII9KWigDG8C/Dr4f/C/Qv%2BEX%2BGngfSPD2mfaZLj%2Bz9E02K1g82Ri0kmyJVXczEknGSetbNFFKMYwioxVkuxMYQpxUYqyXRaL7lYKKKKZQUUUUAFFFFABRRRQAUUUUAFFFFABRRRQAUUUUAFFFFABRRRQAUUUUAFeM%2BOP%2BUhfwv8A%2ByM%2BPP8A07eEK9mrxnxx/wApC/hf/wBkZ8ef%2BnbwhQB7NRRRQAUUUUAFFFFABX5RfsF67Y%2BOP%2BCzvjC4v51EPw4sPiLEzEZ8t5vHmrOAAOdxGpcAcnNfq7X5Pf8ABILQf7Z/4KVfteePNmf7O%2BLWrabvx083xldnH/kp%2BleHnKc62DprrWi3/wBuxnL80h0MNLE4%2Bm%2BlNVaj/wC3KMlH/wAmqr7z9TP%2BEw0n/n01T/wR3f8A8apf%2BEw0n/n01X/wR3f/AMar528ff8Fkf%2BCb3wv8d618NPHP7Rv2HW/DurXOmaxZf8IhrEv2e6t5Wilj3x2jI%2B10YblJU4yCRzWT/wAPy/8Aglp/0dD/AOWTrf8A8hV0SzzJYScZYmmmv78f8z7uj4W%2BJmIoxq0skxcoySaaw9VpppNNNQs0000%2BqafU%2Bn/%2BEw0n/n01X/wR3f8A8ao/4TDSf%2BfTVf8AwR3f/wAar528A/8ABZH/AIJvfFDx3ovw08DftG/btb8RatbaZo9l/wAIhrEX2i6uJViij3yWiom53UbmIUZySBzXfft/fGD4mfs%2B/sTfFP44/Bu002bxP4S8D6hqujrq8zJbrLBC0m99scm7aoZgm3DsoQsgYuvXhcbg8bFyw9SM0t%2BVp29bHz%2BecM8ScMVoUs4wVXDSmm4qrTnTcknZtKaTaT0bXXQ9L/4TDSf%2BfTVf/BHd/wDxqj/hMNJ/59NV/wDBHd//ABqvnvU/23Pjb4V%2BIfjnwX8QvgV4E0LT/hl8PLTxN458T3fxUujY273cWqNb21tjRxLOofT4xLK6RFEuC0cczoIpOZ%2BG3/BSrV/irqnhnQ9W%2BE%2Br%2BF9bi%2BNEvg7xDpCy3ltDIh8H6hr8M%2B3WNHtL14XSGJNv2e0kEqBllkhUrcdJ4Z9Vf8JhpP8Az6ar/wCCO7/%2BNUf8JhpP/Ppqv/gju/8A41Xzz%2ByV%2B3z8Sf2h9P0S48c/swf8I/d%2BLPhNovxB8J6X4e8aw6rPdadfMEeCc3EFlFb3EJeJioeRHR8hwymOuj/4KP8Aij4vfDv9lLXfir8FfjDqPg7V/C0kGotcadpVhd/2hEJFja0lW9t5lWJ94LNGqyfIArrkmgD2P/hMNJ/59NV/8Ed3/wDGqP8AhMNJ/wCfTVf/AAR3f/xqvOv22/ih44%2BEn7Plxr3w21ePTdc1jxb4Z8M6frElqk40ttZ16w0g3wjkBR2gW%2BacK4KExAMCuQaP7Hnjv4j63efFP4S/E3x5deLLz4Y/Es%2BHbPxXqNla293qtrNouk6vG86WcMNuJY/7UNsTFFGrfZg20MWoA9T/AOEw0n/n01X/AMEd3/8AGqP%2BEw0n/n01X/wR3f8A8arUooAqaXrenax5i2Ukm%2BEgSxT27xOmehKuAwB5wcYODVusq0/5HbUP%2BwXZ/wDoy5rVoAKKKKACiiigAooooAKKKKACiiigAooooAKKKKACiiigAooooAKKKKACiiigArxn9l//AJLf%2B0d/2Wax/wDUK8L17NXjP7L/APyW/wDaO/7LNY/%2BoV4XoA9mooooAKKKKACiiigAooooAKKKKACiiigAooooAKKKKACiiigAooooAKKzfGfjHwr8O/B%2BrfEDxzr9rpWiaFps%2Boaxql7KEhs7WGNpJZpGPCoiKzE9gDXK/CT9pj4MfG3wjrHjbwN4nuorLw7ctb%2BIYvEehXui3WluLeO5/wBJtdRhgngBglimVnRVaORXUlSDQB3leM%2BOP%2BUhfwv/AOyM%2BPP/AE7eEK6b4CftRfBL9pqwv9Q%2BDvie9vRpgt3vLfVfDt/pVwsNxH5lvcLBfQQySW8yBmiuFUxShG2O21scz44/5SF/C/8A7Iz48/8ATt4QoA9mooooAKKKKAOM%2BN37O/wO/aR8Jt4I%2BOvwt0bxPppB8uHVLMO8DEYLxSDDwvj%2BNGVvevnAfsDftW/suZvf%2BCfP7W91FokB3QfC34sK%2Bq6OqjpFb3S/6TaRjsq5JJ5avsKiuDE5bg8VP2ko2mtpRbjL/wACWrXk%2BZeR9ZknG3EWQ4V4OjVVTDN3lQrRjWoN9/ZVE4xl/fpulP8AvnyDbf8ABT/xp8CJU0T/AIKE/sl%2BLfhpsYRyeNtAt21zw3Jzjebi2BeDd1EZV2A6nIr6M%2BEH7RHwJ%2BP%2Bjpr3wU%2BL3h7xRbNHvY6NqsUzxj0kjU74z6qwBHcV2E0MNzC9vcQrJHIpV43UEMDwQQeor54%2BLf8AwSl/YK%2BMGrP4n1T4A6foWtmQyx654OuJdHuY5T/y0H2RkRn92Vsnmuf2WcYb%2BHONWPafuS/8CinF/OCPXeO8N881xeFrZfVe8sO1Xot9/Y15QqwXlTxE0ui2Pomivkhf%2BCb/AO0X8P18v9nv/gqJ8W9Ehj/49bTxpDaeJYoR2QLcKmVHQA9qePhb/wAFnPCHyeHv2qPgz4wEf3X8WeCLrTzL7sLFiF/Cn/aOLh/Fws1/hcJr8JRf4E/6m8PYnXA5/hZLtWjicPL589GrBfKb%2B4%2BtKK%2BSx44/4LW6CNurfAz4A6%2BV%2B82h%2BJtTtQ/0%2B0g4/Gj/AIaf/wCCsWhf8hf/AIJf6DrYH3n0T406fb59wJ4yfwo/tigvipVV60p/pzC/4hzmc/4GOwNT/DjsOv8A057L9D60or5L/wCGwv8Agp5qv7vQv%2BCSEsHZp9V%2BNukRqp/3RHlh7io3/wCChP7WHwmYt%2B1L/wAEy/H%2Bm2SnLaz8NdUtvE8Kp/feOEo8SjvknpnHaj%2B2sCtZKaXd06iX38n6DXhjxTP3aMsNUn0hDG4Oc36RWIV/RSv5M%2BuKK%2BT7L/gtt/wTj85bLxP8Z9T8O3bdbPXvBWqwOh7gkWzKCP8AersfDv8AwVR/4J2eKNv9m/tfeC4t3T%2B0dS%2Bx/n54TH41pDOcoqO0cRB/9vx/Vo5MV4a%2BIuCjzVsnxUV3%2Br1Wvk4wmn8mz3%2BivmDx9/wV9/Yn8Na03g74beMNY%2BJ/iLH7nw/8LdAm1meb/ckjAgbnjiSpfhh/wVn/AGR/GXiVfh58U9V1z4TeLCQH8M/FfRn0aYZOARLITAQT0/eAn0pf2zlLqcnt43230v25vhv5c1/Ip%2BGniFHBPFPKq6glzW9m%2Bfl/m9lf23J3n7HkXWR9NUVR0TxP4b8TW4u/DfiGx1CIjIlsbtJVx9VJFXq9JNSV0fEzhOnJxmmmujTT%2B5pP8AooopkhRRRQAUUUUAFFFFABRRRQAUUUUAFFFFABRRRQAV4z44/5SF/C/wD7Iz48/wDTt4Qr2avGfHH/ACkL%2BF//AGRnx5/6dvCFAHs1FFFABRRXz9/wUuOmD9mu1/4TTy/%2BEK/4WF4X/wCFkfaP%2BPf/AIR7%2B2bT7b9qzx9j8v8A4%2Bd37v7N5/mfu99AH0DRXwX4ItPhf4%2B/YC%2BLXwv%2BH/xl8FeFvAkfjvUtW8BNq2tR2uiHwjDrEUjxOyN%2B50O6ng1CzE0YMItZj5QaMIp8l0r4e/Cr4m/AafxN8XPif%2Bzb8OPhr4d/adufEXwl0bxXp0WufD7VbAeCjpk9jp63E2mpdQ/2lfaldLNGqKbi3mkjiZCpoA/U6vzf/wCCNfhF9P8AjN%2B2N40khwdR/ap1WzD%2Bog8T6lJj/wAmgfxr7H/Zz%2BIPjvx3%2Bxf4I%2BI/gj4IaL4d13UfA%2Bn3Om%2BAr69m0rTrBjAm21EiWkkltAq8IPsxZUCgxqcgfOf/AAR%2B8PeI9P8Ag/8AHXxR400izsdZ179sTxnc6ja6dfPdW8EieIVheKKd4ommjWSOQLI0UZYclEJ2jz8XS9pi8O/5ZSf/AJI1%2Bp9Fk/1eGU5lVn8fsoRj/wBv16al/wCSwPuWivmLx/8A8FNf%2BEC8d634F/4d8/tPa1/Yur3Nh/bGgfCf7TYX/kytH59tL9pHmwvt3o%2BBuVlOBmsj/h7D/wBY1P2tP/DN/wD3VWcs6yyMnF1NV/dn/wDKz4SXEOTQk4yq6rT4anTT/n0fWlYvxH%2BHngz4ufD7XPhV8RtBi1Xw/wCJdIudL1zTJ2ZUurS4iaKaIlCGAZGYZUgjOQQea%2BfPAP8AwU1/4T3x3ovgX/h3z%2B09ov8AbWr21h/bGv8Awn%2BzWFh50qx%2Bfcy/aT5UKbt7vg7VVjg4r2b9pPxh8Tvh58AvF/xB%2BDPhy01nxPoOgXOpaPot7C7pqUkCGU2oCOhDyqjRo27Cu6sQwBU9eGxmGxkXKjK6W%2Bkl/wClRj%2Bp24PH4PMIuWHlzJaPSS8/tRj%2BFzGg/Y1/Z4Xwr4p8Han4Q1LV7Pxr4bt9B8VS%2BIvFep6ndalYQfafJjkubu5kn3p9rnxKHEo3L8/yJtzvA/7BX7LXw91Jdc8P%2BAtSm1IeLh4ol1bWvGOraleXGrjSJtGF3NcXl1LLOw0%2BeW3xIzLtKnG5EZfDfEf/AAUf%2BJvxI8LXPjH9lxtD1Ww8R%2BO5tI%2BFEsXhJdUbxBp1hpC3Wq3sjXOt6VbQxxXfnwB2uF2izcBJWkHl8T4N/bq%2BI3xc8R6J8eLL7Ta6d48%2BGX7O%2Bqx%2BFG1%2B9%2Bw6VP4i8Xa7bX8kH2aeLc5i8lGY5SdbWFZkliXyj0nYfYfhj9k74EeCbHRLDwd4TvdKXw54GtPB2iTad4j1CGa00W1eN4LVZUnDnaYo8yFjIwBDOwZgbf7Rf7Nvwn/as%2BHEnwk%2BNVnrt1oE10lxc2eg%2BMdU0R7hlVgEll025glli%2BckxOxjLKjFSyIV%2BU/gn%2B1T%2B1B8bv2pPhB4w1PxV4R/sTx38LfH%2Bt%2BHPh7pV1e6e1rJZ3%2BjQW0GrSma4S6lj80o1wltEbaR7hFikzk%2B3ftv6t4kn0z4UfDeXxVqvh3SPHfxXsND8Z6l4b1240%2B6hszp9/dJBDe27RT2/n3trZ2vmRtHIy3BVSpcUAd9rn7Nvwm8U/Dy5%2BFXi%2Bx1vWtCvPDsGiXVnrni/U71pbaFmeOQyz3DSfagzbvtm77SWSNjKTGhXQ%2BDnwU%2BHHwE8Iv4J%2BGWkXVtZzX899eT6lrF1qN5e3UzbpLi4u7yWW4uZW4BeWR22qq52qoHgPwi1H9oX4p/8E2/G%2Bh/Cf4k3c/jSz1Lx34c8A%2BLNY1UtcXFvp%2Bvapp%2BmXEl5KHLSm1toB9rcOXbE7b9xz8933xJ/aG1HUdc/Zt8HWfj3w/aTfHjw7onhrwv47%2BNF6NSunl8NXWp6jo954m0%2B6v7rTkC2q36GGa5kJlht8Kt15UQB%2BltFfnL49174y3/APwSvh/aK0n4m%2BJP%2BEv%2BGtn4nj8SeJpPjLrFk/h%2BPS9Wv7ee4htYGa28VtbNZPFbjUTENQjt0aSRGuHSu58ea3%2B1F8Kf26/CmpapZ%2BMr%2BHxv8bRpuk6mvxAB8OT%2BFH0CeRtOXRPtO6O%2Bt5beS6ec2inEJc3ZV/s5APs20/5HbUP%2BwVZ/%2BjLmtSsu0/5HbUP%2BwVZ/%2BjLmtSgAooooAKKKKACiiigAooooAKKKKACiiigAooooAKKKKACiiigAooooAKKKKACvGf2X/wDkt/7R3/ZZrH/1CvC9ezV4z%2By//wAlv/aO/wCyzWP/AKhXhegD2aiiigAooooAKKKKACiiigAooooAKKKKACiiigAooooAKKKKACiiigDzD9tT4Q%2BKvj5%2ByZ8Q/g74Fe1Gt%2BIPCl5a6PHfSlLea6MZMUUrAErE7hUdsHCsxwcYPi6/BH47ftAeH/2hm8ZfBrW/h5N8c/BsnhrRbXV9W0u5l0VYNFktFvL02N5Mgaa4vJljWBpiIrRGkMRcIPreigD53/ZH8F/G3V/jl4u/aG%2BMXwTuvh4dT%2BHHhLwhZ%2BG7/V7C8mmm0qbWbm5u1exnmjFsz6ssUIZllxBIzxx71Wlv/BfiTw9/wU28F%2BItW%2BLniHXbPVvg944ew0HVbbTktNFC6t4Syls1taRTuH3DP2iWc/INpX5s/Q9fOH7R%2Br/GvR/28PhPP8Dvh/4W8Rak3wj8drd2nivxhc6LBHB/anhIl0lt9PvWd920bDGowSd%2BQFIB9H0V4z/wnH/BQv8A6Nf%2BDP8A4fjVv/mXo/4Tj/goX/0a/wDBn/w/Grf/ADL0AezUV4z/AMJx/wAFC/8Ao1/4M/8Ah%2BNW/wDmXo/4Tj/goX/0a/8ABn/w/Grf/MvQB7NRXzjpP7R37dusfGfX/gdb/sofCRdU8O%2BF9I128uX%2BOuqeRJBqNzqVvCiEeGNxdW0ucsCoADx4LEsF6j/hOP8AgoX/ANGv/Bn/AMPxq3/zL0AezUV4z/wnH/BQv/o1/wCDP/h%2BNW/%2BZej/AITj/goX/wBGv/Bn/wAPxq3/AMy9AHs1FeM/8Jx/wUL/AOjX/gz/AOH41b/5l65fwD%2B0d%2B3b8RPFfjfwho/7KHwkhuPAfiiLQtVkufjrqgSeeTStP1MPFt8MElPJ1GFSWCnejjGAGYA%2BjqK8Z/4Tj/goX/0a/wDBn/w/Grf/ADL0f8Jx/wAFC/8Ao1/4M/8Ah%2BNW/wDmXoA9morxn/hOP%2BChf/Rr/wAGf/D8at/8y9H/AAnH/BQv/o1/4M/%2BH41b/wCZegD2G8srPUIGtb%2B0inib70c0YZT9Qa4/xF%2Bzb%2Bzr4v3f8Jb8A/BWqb/vf2j4WtJ8/XfGa8m%2BEX7R37dvxl8KXfi/w5%2Byh8JLa3s/FGt6FJHe/HXVFcz6Xqt1pk7jb4YYbGmtJGQ5yUZSQpyo6j/hOP8AgoX/ANGv/Bn/AMPxq3/zL1E6VKqrTin6pP8ANM6sLjsdgpc2GrTpvvGcov74yiel%2BA/hp8OPhZow8OfDH4f6J4c08HIsNB0qGzhB9dkSqv6VV%2BKPwb%2BE3xu8Nv4P%2BMPw20PxPpj5/wBC1zTIrmNSf4lEinY3oy4I7GvPv%2BE4/wCChf8A0a/8Gf8Aw/Grf/MvR/wnH/BQv/o1/wCDP/h%2BNW/%2BZek6VJ0/ZuK5drWVvutb8BxzDMIY1YyNaarJ83Pzy579%2Bfm57%2BfNfzPPta/4Irf8E0dYn%2B2xfs2R6dcg5S40jxNqdqyH1AjuQv6VS/4cwfsgWv8AyAPEXxM0nH3f7O%2BJN%2Bu36bnavTv%2BE4/4KF/9Gv8AwZ/8Pxq3/wAy9cv8Ef2jv27fjx8GPCHxx8K/sofCS10vxn4X0/XdNttQ%2BOuqLPDBd20dxGkgTwwyhwsgDBWYZBwSOa855Hkzd/q8F6RS/Kx9nDxU8S4RUf7YxMkukqsp/wDpxVDmv%2BHPfwRi/wCQf%2B0l8eLT0%2Bz/ABUuRj81NH/DoX4Xj7n7Xn7RC/T4sTf/ABqvTf8AhOP%2BChf/AEa/8Gf/AA/Grf8AzL0f8Jx/wUL/AOjX/gz/AOH41b/5l6X9hZR/z5X3y/8Akyv%2BIqeInXMpv1jRf54dnmR/4JJeGIf%2BQb%2B3p%2B09Zen2X4vOMfnAaP8Ah1Bt/wBT/wAFJ/2sF9v%2BFw5H/pLXpv8AwnH/AAUL/wCjX/gz/wCH41b/AOZeuX%2BN37R37dvwH%2BDHi/44%2BKv2UPhJdaX4M8L6hrupW2n/AB11Rp5oLS2kuJEjD%2BGFUuVjIUMyjJGSBzR/YeU/8%2Bv/ACaf/wAsD/iKfiB1xzfrSwr/ADwbOa/4dS3o%2B7/wUu/as/H4tg/%2B21H/AA6o1MHj/gpf%2B1T%2BPxXH/wAjV6b/AMJx/wAFC/8Ao1/4M/8Ah%2BNW/wDmXo/4Tj/goX/0a/8ABn/w/Grf/MvR/YeVf8%2B//Jqn/wAsD/iKXHv/AEGL/wAEYT/5iPMv%2BHVWrg8f8FMP2p/x%2BKi//I1H/DqzWu3/AAUx/al/H4pL/wDI1em/8Jx/wUL/AOjX/gz/AOH41b/5l6P%2BE4/4KF/9Gv8AwZ/8Pxq3/wAy9H9h5X/z7/8AJqn/AMsD/iKXHn/QYv8AwRhP/mM8y/4dWa3/ANJMv2pP/Dor/wDI1H/Dq7Xu3/BTL9qP8fiev/yNXS/F39o79u34NeFLTxf4j/ZQ%2BElzb3nijRNCjjsvjrqjOJ9U1W10yBzu8MKNizXcbOc5CKxAY4U9R/wnH/BQv/o1/wCDP/h%2BNW/%2BZej%2Bw8r/AOff/k1T/wCWB/xFLjz/AKDF/wCCMJ/8xnmP/Dq7xB2/4KZ/tRf%2BHOX/AOR6X/h1f4h/6SZ/tQ/%2BHNT/AOR69N/4Tj/goX/0a/8ABn/w/Grf/MvR/wAJx/wUL/6Nf%2BDP/h%2BNW/8AmXo/sPK/%2Bff/AJNU/wDlgf8AEUuPP%2Bgtf%2BCMJ/8AMZ5l/wAOsPEP/STP9qH/AMOYn/yPR/w6w8Rdv%2BCmf7UP/hzE/wDkevTf%2BE4/4KF/9Gv/AAZ/8Pxq3/zL1y/j79o79u34d%2BK/BHhDWP2UPhJNcePPFEuhaVJbfHXVCkE8elahqZeXd4YBCeTp0ygqGO90GMEsp/YeV/8APv8A8mqf/LA/4ilx5/0Fr/wRhP8A5jOZ/wCHWHiPt/wU0/ag/wDDlp/8j0v/AA6x8Sj/AJyaftP/APhyk/8AkevTf%2BE4/wCChf8A0a/8Gf8Aw/Grf/MvR/wnH/BQv/o1/wCDP/h%2BNW/%2BZej%2Bw8r/AOff/k1T/wCWB/xFLjv/AKC1/wCCMJ/8xnmX/DrLxL/0k0/af/8ADlJ/8j1S%2BCv7LGp/s0f8FC/Bf9o/tNfE/wCI39t/Bnxls/4WR4lXUf7P8nVvCufs%2BI08vzPNG/ru8qPpjn1r/hOP%2BChf/Rr/AMGf/D8at/8AMvVDwP4H/as8Y/tWeHPjd8bvhx8PfDOjeGfh74h0OGHwr8Q77Wrq7utSvtEuEZkuNIsUijRNLlBYO7FpUAXGSNqGVYDDVVUpwtJf3pv8HNr8Dz80494szrAzweNxCnTna69lh43s0170MNTktUtprs7q6futFFFegfHhRRRQAUUUUAFfOX7EPhnTvC37PHiy8sfMIvf2hvH%2Bp3zsM4P/AAnmqb24HRUjH4LX0bXyV%2ByV4s/bO0/4e%2BKLP4Y/AP4YavoSfGn4i/2fqOvfF3UdNu5l/wCEz1ksZLaLQLlIiG3AATPkAHIJ2hNJtPsXGpUjCUE9JWv52d19z1PqD/hOfBP/AEOGl/8Agwj/APiqX/hOfBP/AEOGlf8Agwj/APiq8t/4Tj/goX/0a/8ABn/w/Grf/MvR/wAJx/wUL/6Nf%2BDP/h%2BNW/8AmXpkHqX/AAnPgn/ocNK/8GEf/wAVR/wnPgn/AKHDSv8AwYR//FV5b/wnH/BQv/o1/wCDP/h%2BNW/%2BZej/AITj/goX/wBGv/Bn/wAPxq3/AMy9AGpffAz9ijVPhxpPwd1P4O/C248I6Be/bNC8Kz%2BHtNfTdNud0jedBbFPKhk3Syneig5kc5%2BY50NP%2BHH7KOk2trZaV4D%2BHttDZWmk2llDb6XYotvBpc8lxpkSAKAiWk8sstuowIJJHeMKzEnzP4I/tHft2/Hj4MeEPjj4V/ZQ%2BElrpfjPwvp%2Bu6bbah8ddUWeGC7to7iNJAnhhlDhZAGCswyDgkc11H/Ccf8ABQv/AKNf%2BDP/AIfjVv8A5l6ANWx%2BB/7FWl%2BKdb8c6Z8IPhdb634lguofEesQeH9NS61WO6x9pS5lCb51l2r5gckPgbs4roPG%2BlfAD4meCLn4ZfEjTfB3iDw3eQpFd%2BHtchtLuxnjRlZEeCUNGyqyqQCuAVBHQVxX/Ccf8FC/%2BjX/AIM/%2BH41b/5l6P8AhOP%2BChf/AEa/8Gf/AA/Grf8AzL0AdUPBP7MI8PW/hEeEfAY0m08Nz%2BHrXS/sFl9nh0icRrNpyR7dq2sghiDwAeWwiQFTtGMpfgj%2BxYnwm/4UInwh%2BFw8C%2Bf5/wDwhY0DTv7J83zPM3/Y9nk7t/z5253c9ea4L43ftHft2/Af4MeL/jj4q/ZQ%2BEl1pfgzwvqGu6lbaf8AHXVGnmgtLaS4kSMP4YVS5WMhQzKMkZIHNdR/wnH/AAUL/wCjX/gz/wCH41b/AOZegDQ1X4BfsPa7c%2BG7zW/gr8KbybwdbxW/hGW78N6ZI2hwxsHjjsy0ZNsqsAyrHtAIBGDWvpvgH9lrRvirf/HbR/BfgC08b6rbLb6p4yttNsY9VvIQkaCOW7VRNIgSKJQrMQBGg6KMcx/wnH/BQv8A6Nf%2BDP8A4fjVv/mXo/4Tj/goX/0a/wDBn/w/Grf/ADL0AemaHqFjq/inUNS0q7jubb7DaxC4gcMhdXnZlDDgkB1zj1FbVeM/8Jx/wUL/AOjX/gz/AOH41b/5l65f4u/tHft2/BrwpaeL/Ef7KHwkube88UaJoUcdl8ddUZxPqmq2umQOd3hhRsWa7jZznIRWIDHCkA%2BjqK8Z/wCE4/4KF/8ARr/wZ/8AD8at/wDMvR/wnH/BQv8A6Nf%2BDP8A4fjVv/mXoA9morxn/hOP%2BChf/Rr/AMGf/D8at/8AMvR/wnH/AAUL/wCjX/gz/wCH41b/AOZegD2aivnHx9%2B0d%2B3b8O/FfgjwhrH7KHwkmuPHniiXQtKktvjrqhSCePStQ1MvLu8MAhPJ06ZQVDHe6DGCWXqP%2BE4/4KF/9Gv/AAZ/8Pxq3/zL0AezUV4z/wAJx/wUL/6Nf%2BDP/h%2BNW/8AmXo/4Tj/AIKF/wDRr/wZ/wDD8at/8y9AHs1FeM/8Jx/wUL/6Nf8Agz/4fjVv/mXrl9W/aO/bt0f4z6B8Drj9lD4SNqniLwvq%2Bu2dynx11TyI4NOudNt5kcnwxuDs2qQFQFIISTJUhQwB9HUV4z/wnH/BQv8A6Nf%2BDP8A4fjVv/mXo/4Tj/goX/0a/wDBn/w/Grf/ADL0AezUV4z/AMJx/wAFC/8Ao1/4M/8Ah%2BNW/wDmXo/4Tj/goX/0a/8ABn/w/Grf/MvQB7NRXzjpP7R37dusfGfX/gdb/sofCRdU8O%2BF9I128uX%2BOuqeRJBqNzqVvCiEeGNxdW0ucsCoADx4LEsF6j/hOP8AgoX/ANGv/Bn/AMPxq3/zL0AezUV4z/wnH/BQv/o1/wCDP/h%2BNW/%2BZej/AITj/goX/wBGv/Bn/wAPxq3/AMy9AHs1FeM/8Jx/wUL/AOjX/gz/AOH41b/5l65fwD%2B0d%2B3b8RPFfjfwho/7KHwkhuPAfiiLQtVkufjrqgSeeTStP1MPFt8MElPJ1GFSWCnejjGAGYA%2BjqK8Z/4Tj/goX/0a/wDBn/w/Grf/ADL0f8Jx/wAFC/8Ao1/4M/8Ah%2BNW/wDmXoA9mrxn9l//AJLf%2B0d/2Wax/wDUK8L0f8Jx/wAFC/8Ao1/4M/8Ah%2BNW/wDmXq3%2Byt8OfjT4P1j4oeO/jpoHhfSdU8ffEKLXLPSvCfiW51a3tbWLQdH0xVe4uLKzZpGk06Vyoi2hZEG5jnAB63RRRQAUUUUAFFFFABRRRQAUUUUAFFFFABRRRQAUUUUAFFFFABRRRQAUUUUAFfK/7T37Wnxc%2BGHxj8Wa14B8O%2BD5PDHwf8P%2BH73xqda0i4m1XVLfV7%2BVLmCwuI7iNLLyLazjuMyRTi5kKRkQ%2BX5p%2BqK8Z%2BM/7EPw4%2BN3xSPxM1zxz4q0uLUbXSLXxf4a0a6tU07xTBpd7Je2MV8stvJMFjmmlz9nlgMschimMsYVAAezUUUUAFFFFAHzH4c/aV%2BJkP7f/ij4P/EbWPD3hPw2viC00TwZFqPwi1lLrxjANAg1HEHiNrtdOaWO7udQAtBC8nl2kwCgs0i/TleV%2BLP2WoPH/wAZNI%2BKfj343%2BNdX0rw9rsetaB4AuDpkWjWOoR27wRzhobJL2XZ5kkipNdSRiR92z5EC%2BqUAFFFFAHi/wDwUF%2BLvxw/Z%2B/ZH8afHr4BXvhSPWPBOhXeuXUHjDRbm%2Btru0tbaWZ7dEtrq2ZJXZEUSFyqAsSj8CvP/Hn7Wnxc8F/HjxbqfhTw74Qi%2BHnhD4x%2BEfh94ys5tIuDreq6rrsGipHqEN2lwsMccH9uaTGYpLeV5EhnxLHtQV7D%2B1j%2BzjZftafAjXv2fda%2BKvinwjpPieylsdcv/CC6d9rubKWJ4prbdf2l1GiOr8siLICo2uvOeLg/YB8HT/EWz%2BIvir44%2BPtdY6zpOueJtG1CXSorHxPrmmJGljq17HbWETLcRCC0wts0EDGxti8TGPJAPe6KKKACvF/2yfi78cPgla%2BAfGPwsvfCn9jah8TPDnh7xfY%2BINFubm6ubXVdZsdNBs5YbqFLaSNbmWTfIk6koi7OSa9oryr9q79lt/2qvDeheF5/j7438DW%2BheJLDXUbwXDo7Pd3tjeQXlm0p1LT7wbYri3jcLGEDcrJvU7QAecfs8/tK/EzW/2qvFvwR%2BKGr%2BHvCenQ%2BKdbt/BPhKT4Razplzr1tC6Sm/t9auLv7BqDsZJpZYraAvyXYrhifpyvJdJ/ZRD/ABk0X4y/Ef8AaA8d%2BNZvC93eXfhPQvEI0mGw0e6ubeS1kuIlsNPtpZX%2BzzTwr58kqos77QCQR61QAUUUUAeH/t3fFz48fs/fBrV/jr8KPGPgWx0/wtotzeXui%2BLPDN7f3PiG9yi2emWcltewfZ5riUi3RvKumaWeILCx%2BVvP/gj%2B198Z9c%2BJfgr%2B1vBnhLSPhp43%2BJ/ij4beFfDWnaXNHq%2BiX%2BgQ6tvnnuRcNbzQSN4f1NFhjt4jGrWx8yTLAen/ALSv7IMH7SXjzwR8QJv2gfHfhC58A3dze6LY%2BGItGns5L2VBGt5NBqenXiPPDH5iwyAKYxPKR8zZFXwH%2Bw18PfAfxlt/i7D8RfF2pQadrup69onhDUrmy/snStb1GN49Q1SBIrVJ/PnE92WV5nhRr65McUfmcAHtdFFFABXy/wDtc/Hj9pf4LfETT/CmlQ%2BAPGuj%2BOYdattF%2BHMXg%2B%2Bk1hLW00O6u5L%2B4nF68V1bC6it7aSEWsQP2%2BFBMZGRJPqCvDpv2JriP9o/xX%2B01on7VfxL07V/Fumw6dc6XDB4fntNPs4YGjhtrNrnSZbm3iWV3utizbXncu4cHbQAz9hD9oPxv8e/h7eXXxX8faNfeLtOFm2v%2BG7L4Xav4RvNAee2WUQXNlq91PcOC2/y7gBI5FQ7Q20mvdK83%2BB37N2nfBnxP4k%2BIesfFLxT448VeK4rG31jxP4uawW5e0sxN9ltUi0%2B1tbaOKNrm5cbYQzNcSFmbIx6RQAUUUUAfHP/AAUE/bj%2BKn7GHjn%2B09c0XQPGPhF9G1HW7fwrL8OdTspbdNN0a%2B1JJP8AhIprp9Mnu/temjZYrAl0I5llA2wtI3r37NHxd%2BOerfFTxv8As9ftHXPhTUPE/hHSdD1qPWvBWkXNhY3NjqgvI0iMFzc3LrLFcaddqX83EiGJtkZJUVvjr%2Bwl4I/ac1q6tfj/APFvxr4o8F3MlxIvwyvJNNh0WKSaxmsmbfb2Ud9IBHcTMElunQO%2B7b8iBen/AGfP2ZtI%2BAd5r3iK7%2BKHizxx4j8SGzj1bxV41uLN76W2tIjFa2o%2Bx21vCsUQeVhiPezzyu7Ozk0AelUUUUAFfEf7U/7ZX7Wfwb%2BNXiD4UeDvDfhzxrqdhotxrvhgJ8D/ABBHJooGo6ZaoYW%2B3OPE0gsdUuPO/svynhaErKIxMI6%2B3K8P179i3U/Evj0/E7Wv2ufijNrenwXkXg28KaAB4VW6mhkn%2ByRjSdk7NHAtvuvVumWJnClXdnIB1X7LHxYf4yfCODxZe/EzRvFV/DqN1ZapfaN4MvvDotriKVla1m03ULie6s54xhXjmcPn5tqhgK9GrhvgH8BfD3wA8M6no2leKdb8Qajr%2BvXGt%2BJPEniOaBr3Vb%2BYIjTyi3ihgTEcUMSpDFHGqRIAowSe5oAKKKKACiiigAooooAKKKKAKPijxDYeEvDWo%2BK9VDm10yxmu7kRLlvLjQu2B3OFNfOf7E37Sfxr8f8AinR/Bnxs8PeDLMeOvhbZfEbwzD4M0q4tBpkd5cE3en3ZmuJRdzRvc2z/AGxBAJ2lmJgj2gv9LXdpa39rLY3tuk0M0bRzRSqGV1IwVIPBBHGK8h/Zm/Yr8Bfswaq%2Br6B8QfFviWW28MWPhnw6PFl7azDQNCs3ke3021Nvbwlo1MnzSzma4kEcXmTP5a4APYqKKKACuF/ag8efEX4Wfs0fET4nfB/wouveLfDngXV9U8LaG1jNdDUdRt7OWW2tjDAyyzCSVETy42DtuwpBINd1Wd4t0S/8S%2BGNQ8P6X4r1HQrm9tJIbfWtIWBrqxdlIE0QuIpYi6nkCSN0yPmVhkEA8u/Yp%2BLU/wAUPhnfWWrfELw/rOp%2BHdVXTrzTNE%2BGGp%2BDn0NBbQSRWdxpWqXM9zC4RxIrt5aPFLFsTA3v7FXnnwH/AGdtJ%2BB154l8R3PxE8SeMfEni/UYbzxF4p8VvZi7ujDbpbwRCOxtra2iijjQBVjhTJZ2YszMx9DoAKKKKAPlz9qj9rH4ofs4fF7xxZfErRvCXiL4X2H7O/i/x7baFb6JcJqrtog0tZ7a4uZLl7eaKdb6cBBbIVCJl3ywrt/2Z/i/8fNU%2BLnjL9nX9pZ/CV54o8MeGPD3iWPVfBWk3NjZSWWrPqVutsYbm5uXMsNxpF2DKJAsiPE3lxnctQfGP9hXw78dPjq3xl8efHbxzLps3grU/CN98PYYNF/sS70bUltvt9pIX01r0idrSB2cXQdShCMiMyHpP2d/2XdD/Z9vta8Rz/FDxb438Q6/a2Flf%2BJ/G1zaSXpsLFJFs7MfZLa3j8qIz3DglDI73Mru7s2aAPT6KKKACvkT41/tL/tbeDNd/aA8CW/hXwZ4svfAXh/wp4k%2BG1jpPw/1O/nWPUdV1KEJeWsV48uozwLpsc6m2FuS5IVflVq%2Bu68Ll/Yo8QxfHTxt8f8AQv20PitpWreN9IsdMubGys/DDWmm21lcXM9mlsJdFeT90by6UGZ5S6zkSeYVQqAdX%2Byp8W5vjL8KR4m1H4naN4p1G11W5sdWutH8EX/hs2dxE3zWs%2BmajcT3VpOildyTMGIZW2qrCvSa4T4B/APQPgDoWs2On%2BLdc8R6r4m8QS654n8TeJJbdr3Vb%2BSGGDzZBbQwwRhYLe3hVIoo0VIUAXOSe7oAKKKKAPjb9pb9rv8AaW/Z4%2BM0Hw21lPhn41vtbggm8Iw6d4WvbSXwXeal4h0zw9pE2pyvfTC6inbV5wWiWzkcWN0sYZfMMXuP7Kvxf%2BJHxGHj/wCH3xiOiT%2BKvhp48bw1rOq%2BGtOms7DU/M0vTtWt7iG3mnnkt82uqW6PG00uJI5MMQRjhbb/AIJq%2BEmuviG/iH9pf4nazb/EnXjrmsW%2BpHQvMs9SiuIZ9Puba6i0tLpTYPb24tI3mkiiWFAyPzn1j4B/AXQ/gH4e1bTbLxfrniTVvEWvTa14n8UeJXtjf6vfSRxQ%2BdMLWCCBdkEFvAiRRRoscEaheCSAd1RRRQAy5%2B0/ZpPsezzth8rzc7d2OM45xmviD4rftc/tp/DT4ia58Nre28B%2BM9e8MXvhq31bx14I%2BCuv6tH4ct9Wa8e9sJdKs9Snu7maOGysbomKdP3d1C0sCAxNJ9vXcMlxay28N1JA8kbKs8QUvGSMBl3ArkdRkEeoNfPfwY/YC8QfAT4bXHw0%2BHf7dXxiijutWfU5tZvLLwnPqEt3K8slzPNM%2BhH7TJO8u6SScSPmNNhQDBAPWfgJ8Q7L4rfB3w/8QrD4gaN4qTU9PEj6/wCH9JmsLS7kBKyFLWeaaW2KurI0MkjvGysrHcpA6%2BuS%2BBfwX8Jfs%2B/C/TvhT4Kub%2B4srCW6uJr7VbkTXV9d3VzLdXV1M4VQ0s1xPNK%2B1VXdIdqquFHW0AFUfE8PiS58N6hb%2BDdTsbLV5LKVdLvNTsHuraC4KERySwxyxNNGrYLIskZYAgOpO4XqzfGOg3/ijwtf%2BHdL8W6loNzeWrxQa1o4gN1YuRxNELiKWIup5AkjdDj5lYZFAHw98N/27P2tfjB8U9b%2BCXws034fJ4z02112%2Bk8Z%2BK/hdrWhrqmmaRa6LKljLol5fJqGnyvd%2BIdiTTzPH5UMlwkLrOgP2N8Avi1pvx8%2BBPgr466NpstnZ%2BNfCWm69aWcz7ngivLWO4WNiAMlRIAT6ivFtX/4JkeB9a1y%2B%2BIt3%2B0p8U0%2BIGrJeWutfEm2vdIh1a/0y6trW2m0wommizhtillaMPItopVkgWVZQ5Zj9B%2BC/B/hr4eeDtJ8AeDNJi0/R9D0yDT9JsIc7La2hjWOKNc84VFVR9KANOiiigDl/jTqPjjRvhbrWt/DnxDY6Xq1hZm6hvtQ8H3viBEjjIeUDTrGeC5vJGiV1SKGQOXZcK5%2BRvi34S/8FEfj94k8aaHqfje48I%2BBPBmpTzr4g8cXnwM8RTW2sX8Ov3WkIlzKt9GnhmeS1tLX9xqjSSwPKsb52BK%2B2/iZ4M13x74Sm8OeG/ilr/g28kljeLX/AAzFYvdwbWBKqt/bXMDBgCpDxNwTjBwR4rdf8E5vCmoeD7j4bat%2B0h8TbvwxrmoTX/jzQJrjRxF4wu57xrq4mvpV00XEXmllhaOzltYhDEkaoo3bgD6JooooAKKKKACiiigAooooAKKKKACiiigAooooAKKKKACiiigAooooAKKKKACiiigAooooAKKKKACiiigAooooAKKKKACiiigAooooAKKKKACiiigAooooAKKKKACiiigAooooAKKKKACiiigAooooAKKKKACiiigAooooAKKKKACiiigAooooAKKKKACiiigAooooAKKKKACiiigAooooAKKKKACiiigAooooAKKKKACiiigAooooAKKKKACiiigAooooAKKKKACiiigAooooAKKKKACiiigAooooAKKKKACiiigAooooAKKKKACiiigAooooA//Z\">"
      ]
     },
     "metadata": {},
     "output_type": "display_data"
    }
   ],
   "source": [
    "s.run(tf.global_variables_initializer())\n",
    "\n",
    "BATCH_SIZE = 512\n",
    "EPOCHS = 40\n",
    "\n",
    "# for logging the progress right here in Jupyter (for those who don't have TensorBoard)\n",
    "simpleTrainingCurves = matplotlib_utils.SimpleTrainingCurves(\"cross-entropy\", \"accuracy\")\n",
    "\n",
    "for epoch in range(EPOCHS):  # we finish an epoch when we've looked at all training samples\n",
    "    \n",
    "    batch_losses = []\n",
    "    for batch_start in range(0, X_train_flat.shape[0], BATCH_SIZE):  # data is already shuffled\n",
    "        _, batch_loss = s.run([step, loss], {input_X: X_train_flat[batch_start:batch_start+BATCH_SIZE], \n",
    "                                             input_y: y_train_oh[batch_start:batch_start+BATCH_SIZE]})\n",
    "        # collect batch losses, this is almost free as we need a forward pass for backprop anyway\n",
    "        batch_losses.append(batch_loss)\n",
    "\n",
    "    train_loss = np.mean(batch_losses)\n",
    "    val_loss = s.run(loss, {input_X: X_val_flat, input_y: y_val_oh})  # this part is usually small\n",
    "    train_accuracy = accuracy_score(y_train, s.run(classes, {input_X: X_train_flat})) \n",
    "    # this is slow and usually skipped\n",
    "    valid_accuracy = accuracy_score(y_val, s.run(classes, {input_X: X_val_flat}))  \n",
    "    simpleTrainingCurves.add(train_loss, val_loss, train_accuracy, valid_accuracy)"
   ]
  },
  {
   "cell_type": "markdown",
   "metadata": {},
   "source": [
    "# Submit a linear model"
   ]
  },
  {
   "cell_type": "code",
   "execution_count": 36,
   "metadata": {
    "collapsed": true
   },
   "outputs": [],
   "source": [
    "## GRADED PART, DO NOT CHANGE!\n",
    "# Testing shapes \n",
    "grader.set_answer(\"9XaAS\", grading_utils.get_tensors_shapes_string([W, b, input_X, input_y, logits, probas, classes]))\n",
    "# Validation loss\n",
    "grader.set_answer(\"vmogZ\", s.run(loss, {input_X: X_val_flat, input_y: y_val_oh}))\n",
    "# Validation accuracy\n",
    "grader.set_answer(\"RMv95\", accuracy_score(y_val, s.run(classes, {input_X: X_val_flat})))"
   ]
  },
  {
   "cell_type": "code",
   "execution_count": 37,
   "metadata": {},
   "outputs": [
    {
     "name": "stdout",
     "output_type": "stream",
     "text": [
      "Submitted to Coursera platform. See results on assignment page!\n"
     ]
    }
   ],
   "source": [
    "# you can make submission with answers so far to check yourself at this stage\n",
    "grader.submit(COURSERA_EMAIL, COURSERA_TOKEN)"
   ]
  },
  {
   "cell_type": "markdown",
   "metadata": {},
   "source": [
    "# MLP with hidden layers"
   ]
  },
  {
   "cell_type": "markdown",
   "metadata": {},
   "source": [
    "Previously we've coded a dense layer with matrix multiplication by hand. \n",
    "But this is not convenient, you have to create a lot of variables and your code becomes a mess. \n",
    "In TensorFlow there's an easier way to make a dense layer:\n",
    "```python\n",
    "hidden1 = tf.layers.dense(inputs, 256, activation=tf.nn.sigmoid)\n",
    "```\n",
    "\n",
    "That will create all the necessary variables automatically.\n",
    "Here you can also choose an activation function (remember that we need it for a hidden layer!).\n",
    "\n",
    "Now define the MLP with 2 hidden layers and restart training with the cell above.\n",
    "\n",
    "You're aiming for ~0.97 validation accuracy here."
   ]
  },
  {
   "cell_type": "code",
   "execution_count": 56,
   "metadata": {
    "collapsed": true
   },
   "outputs": [],
   "source": [
    "# write the code here to get a new `step` operation and then run the cell with training loop above.\n",
    "# name your variables in the same way (e.g. logits, probas, classes, etc) for safety.\n",
    "hidden1 = tf.layers.dense(input_X, 512, activation=tf.nn.relu)\n",
    "hidden2 = tf.layers.dense(hidden1, 256, activation=tf.nn.relu)\n",
    "logits = tf.layers.dense(hidden2, 10)\n",
    "probas = tf.nn.softmax(Нogits) ### apply tf.nn.softmax to logits\n",
    "classes = tf.argmax(probas, axis=1) ### apply tf.argmax to find a class index with highest probability\n",
    "\n",
    "loss = tf.reduce_mean(tf.nn.softmax_cross_entropy_with_logits(labels=input_y, logits=logits))\n",
    "\n",
    "step = tf.train.AdamOptimizer().minimize(loss) ### optimizer step that minimizes the loss"
   ]
  },
  {
   "cell_type": "markdown",
   "metadata": {},
   "source": [
    "# Submit the MLP with 2 hidden layers\n",
    "Run these cells after training the MLP with 2 hidden layers"
   ]
  },
  {
   "cell_type": "code",
   "execution_count": 59,
   "metadata": {
    "collapsed": true
   },
   "outputs": [],
   "source": [
    "## GRADED PART, DO NOT CHANGE!\n",
    "# Validation loss for MLP\n",
    "grader.set_answer(\"i8bgs\", s.run(loss, {input_X: X_val_flat, input_y: y_val_oh}))\n",
    "# Validation accuracy for MLP\n",
    "grader.set_answer(\"rE763\", accuracy_score(y_val, s.run(classes, {input_X: X_val_flat})))"
   ]
  },
  {
   "cell_type": "code",
   "execution_count": 60,
   "metadata": {},
   "outputs": [
    {
     "name": "stdout",
     "output_type": "stream",
     "text": [
      "Submitted to Coursera platform. See results on assignment page!\n"
     ]
    }
   ],
   "source": [
    "# you can make submission with answers so far to check yourself at this stage\n",
    "grader.submit(COURSERA_EMAIL, COURSERA_TOKEN)"
   ]
  }
 ],
 "metadata": {
  "kernelspec": {
   "display_name": "Python 3",
   "language": "python",
   "name": "python3"
  },
  "language_info": {
   "codemirror_mode": {
    "name": "ipython",
    "version": 3
   },
   "file_extension": ".py",
   "mimetype": "text/x-python",
   "name": "python",
   "nbconvert_exporter": "python",
   "pygments_lexer": "ipython3",
   "version": "3.6.2"
  }
 },
 "nbformat": 4,
 "nbformat_minor": 1
}
